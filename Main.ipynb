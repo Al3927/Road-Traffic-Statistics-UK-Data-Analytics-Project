{
  "nbformat": 4,
  "nbformat_minor": 0,
  "metadata": {
    "kernelspec": {
      "display_name": "Python 3",
      "language": "python",
      "name": "python3"
    },
    "language_info": {
      "codemirror_mode": {
        "name": "ipython",
        "version": 3
      },
      "file_extension": ".py",
      "mimetype": "text/x-python",
      "name": "python",
      "nbconvert_exporter": "python",
      "pygments_lexer": "ipython3",
      "version": "3.8.5"
    },
    "colab": {
      "name": "Main.ipynb",
      "provenance": [],
      "collapsed_sections": [
        "BXRRauKHYCPz",
        "pSfUBtuxYCP0",
        "S53ZjW_4YCP3",
        "pxsYZgqfYCQD",
        "lPB-TQq3YCQJ",
        "abBu-BL6YCQJ",
        "cUG9-tvIYCQK",
        "IwQ4Kj4BYCQW",
        "VlLExSJIYCQZ",
        "D5n_ZfQGfHtR",
        "CZruquCKfI6q",
        "nafXLEJ1fNtB",
        "V7NnVoE0fQRR",
        "o21EsTw0fSw_"
      ],
      "include_colab_link": true
    }
  },
  "cells": [
    {
      "cell_type": "markdown",
      "metadata": {
        "id": "view-in-github",
        "colab_type": "text"
      },
      "source": [
        "<a href=\"https://colab.research.google.com/github/Al3927/Road-Traffic-Statistics-UK-Data-Analytics-Project/blob/Insight/Main.ipynb\" target=\"_parent\"><img src=\"https://colab.research.google.com/assets/colab-badge.svg\" alt=\"Open In Colab\"/></a>"
      ]
    },
    {
      "cell_type": "markdown",
      "metadata": {
        "id": "Uxvf9D1xYCPV"
      },
      "source": [
        "# <center><font size =\"9\"> ĐỒ ÁN MÔN HỌC CUỐI KÌ</font></center>\n",
        " <br />\n",
        " \n",
        "__TÊN MÔN HỌC:__ PHÂN TÍCH DỮ LIỆU THÔNG MINH\n",
        "\n",
        "__ĐỀ TÀI:__ PHÂN TÍCH DỮ LIỆU TAI NẠN ĐƯỜNG BỘ TẠI CÁC VÙNG CỦA NƯỚC ANH\n",
        "\n",
        "__GIẢNG VIÊN:__ DƯƠNG NGUYỄN THÁI BẢO\n",
        " \n",
        "__THỨ TỰ NHÓM:__ 07\n",
        " \n",
        "__THÀNH VIÊN:__\n",
        "\n",
        "- 18120655 Phạm Minh Vương \n",
        "- 18120568 Phạm Văn Thật \n",
        "- 18120184 Nguyễn Nguyên Khang \n",
        "- 1712431 Bùi Lê Hiếu \n",
        "- 1712072 Nguyễn Văn Khoa\n",
        "\n",
        "__PHÂN CÔNG:__\n",
        "\n",
        "Công việc | Thực hiện | Mức độ hoàn thành\n",
        "------------ | ------------- | ------------\n",
        "Thu thập dữ liệu | Khang | 100%\n",
        "Khám phá dữ liệu cơ bản | Khang | 100%\n",
        "Tiền xử lý dữ liệu | Khang | 100%\n",
        "Mô hình hóa dữ liệu | Khang | 100%\n",
        "Xử lý và mô hình hóa Insight 1,2| Thật | 100%\n",
        "Xử lý và mô hình hóa Insight 3,4| Hiếu | 100%\n",
        "Xử lý và mô hình hóa Insight 5,6| Vương | 100%\n",
        "Xử lý và mô hình hóa Insight 7 | Khoa | 100%"
      ]
    },
    {
      "cell_type": "markdown",
      "metadata": {
        "id": "95fvoDV9YCPl"
      },
      "source": [
        "\n",
        "## <center><font size =\"7\"> Idea( khi nào nộp xóa)</font></center>\n",
        "\n",
        "Association rules\n",
        "\n",
        "Kiểm định giả thuyết thống kê\n",
        "\n",
        "Clustering: Region\n",
        "\n",
        "[IV.3. Phân bố giá trị của cột có kiểu dữ liệu không phải dạng số](#3.-Phân-bố-giá-trị-của-cột-có-kiểu-dữ-liệu-không-phải-dạng-số)\n",
        "\n",
        "[Paper](https://scholar.google.com/scholar?q=%22data%20gov%20uk%20dataset%20cb7ae6f0%204be6%204935%209277%2047e5ce24a11f%20road%20safety%20data%22)"
      ]
    },
    {
      "cell_type": "markdown",
      "metadata": {
        "id": "NSQKyU4GYCPn"
      },
      "source": [
        "</br>\n",
        "\n",
        "## <center><font size =\"7\"> Mục lục</font></center>\n",
        " <br />\n",
        " \n",
        "###I. [Giới thiệu đồ án](#I.-Giới-thiệu-đồ-án)\n",
        "   1. [Dữ liệu](#1.-Dữ-liệu)\n",
        "   2. [Câu hỏi](#2.-Câu-hỏi)\n",
        "\n",
        "###II. [Thu thập dữ liệu](#II.-Thu-thập-dữ-liệu)\n",
        "###III. [Khám phá dữ liệu, tiền xử lý đơn giản và tách tập](#III.-Khám-phá-dữ-liệu,-tiền-xử-lý-đơn-giản-và-tách-tập)\n",
        "  1. [Kiểm tra output hợp lệ](#1.-Kiểm-tra-output-hợp-lệ)\n",
        "  2. [Ý nghĩa của mỗi dòng](#2.-Ý-nghĩa-của-mỗi-dòng)\n",
        "  3. [Kiểm tra các giá trị trùng](#3.-Kiểm-tra-các-giá-trị-trùng)   \n",
        "  4. [Kiểm tra các giá trị không hợp lệ](#4.-Kiểm-tra-các-giá-trị-không-hợp-lệ)\n",
        "  5. [Xử lý dữ liệu bị lệch](#5.-Xử-lý-dữ-liệu-bị-lệch)\n",
        "  6. [Tách các tập](#6.-Tách-các-tập) \n",
        "\n",
        "###IV. [Khám phá dữ liệu (tập huấn luyện)](#IV.-Khám-phá-dữ-liệu-(tập-huấn-luyện))\n",
        "  1. [Kiểm tra kiểu dữ liệu của input có phù hợp](#1.-Kiểm-tra-kiểu-dữ-liệu-của-input-có-phù-hợp)\n",
        "  2. [Phân bố giá trị của cột có kiểu dữ liệu dạng số](#2.-Phân-bố-giá-trị-của-cột-có-kiểu-dữ-liệu-dạng-số)\n",
        "  3. [Phân bố giá trị của cột có kiểu dữ liệu không phải dạng số](#3.-Phân-bố-giá-trị-của-cột-có-kiểu-dữ-liệu-không-phải-dạng-số)\n",
        "\n",
        "###V. [Tiền xử lý (tập huấn luyện)](#V.-Tiền-xử-lý-(tập-huấn-luyện))\n",
        "  1. [Bỏ cột](#1.-Bỏ-cột)\n",
        "  2. [Sửa cột](#2.-Sửa-cột)\n",
        "  3. [Xử lý giá trị thiếu](#3.-Xử-lý-giá-trị-thiếu)\n",
        "  4. [Chuẩn hóa](#4.-Chuẩn-hóa)\n",
        "  5. [Tạo pipeline](#5.-Tạo-pipeline)\n",
        "\n",
        "###VI. [Mô hình hóa dữ liệu](#VI.-Mô-hình-hóa-dữ-liệu)\n",
        "  1. [Tìm mô hình tốt nhất](#1.-Tìm-mô-hình-tốt-nhất)\n",
        "  2. [Đánh giá mô hình tìm được](#2.-Đánh-giá-mô-hình-tìm-được)\n",
        "\n",
        "###VII [Phân tích Dữ Liệu Tìm Insight](#VII.-Nhìn-lại-quá-trình-làm-đồ-án)\n",
        "  1. [Insight 1](#1.-Insight-1)\n",
        "  2. [Insight 2](#2.-Insight-2)\n",
        "  3. [Insight 3](#3.-Insight-3)\n",
        "  4. [Insight 4](#4.-Insight-4)\n",
        "  5. [Insight 5](#5.-Insight-5)\n",
        "  6. [Insight 6](#6.-Insight-6)\n",
        "  7. [Insight 7](#7.-Insight-7)\n",
        "\n",
        "###VIII [Nhìn lại quá trình làm đồ án](#VIII.-Nhìn-lại-quá-trình-làm-đồ-án)\n",
        "  1. [Khó khăn](#1.-Khó-khăn)\n",
        "  2. [Những thứ học được](#2.-Những-thứ-học-được)\n",
        "  3. [Những điều cần bổ sung nếu có thêm thời gian](#3.-Những-điều-cần-bổ-sung-nếu-có-thêm-thời-gian)\n",
        "\n",
        "###IX. [Tài liệu tham khảo](#IX.-Tài-liệu-tham-khảo)"
      ]
    },
    {
      "cell_type": "markdown",
      "metadata": {
        "id": "Tw8r4lalYCPp"
      },
      "source": [
        "</br>\n",
        "\n",
        "## I. Giới thiệu đồ án\n",
        "\n",
        "Mục đích chính của đồ án là phân tích dữ liệu tai nạn đường bộ tại các vùng của nước Anh, tìm ra các insight quan trọng, đưa ra giải pháp giúp giảm thiểu tai *nạn*\n",
        "\n",
        "### 1. Dữ liệu\n",
        "\n",
        "![data.png](data:image/png;base64,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)\n",
        "\n",
        "\n",
        "Tập dữ liệu: Tai nạn đường bộ tại các vùng của nước Anh\n",
        "\n",
        "Tập dữ liệu được tải về từ [Road traffic open data](https://roadtraffic.dft.gov.uk/custom-downloads)\n",
        "\n",
        "Dữ liệu đúng và hợp pháp vì được cung cấp bởi trang web chính thức của chính phủ Anh, có đuôi gov.uk\n",
        "\n",
        "### 2. Câu hỏi\n",
        "\n",
        "Làm sao để giảm thiểu tai nạn tại nước Anh? \n",
        "\n",
        "Ta sử dụng mô hình học máy\n",
        "\n",
        "*Output - số lượng tai nạn -* được tính từ *input - thông tin của các vụ tai nạn -* theo công thức nào?\n",
        "\n",
        "Do Input ở đây là các thông tin mà con người có tể điều chỉnh được, nên ta hy vọng nhờ vào học máy, tìm ra được mối liên hệ tin cậy giữa input và output, giúp nhận ra và điều chỉnh input để giảm thiểu số lượng tại nạn.\n",
        "\n",
        "- Chia tập: \n",
        "\n",
        "Hồi quy:\n",
        "\n",
        "2012 - 2017 : Training set\n",
        "\n",
        "2018 - 2019: Testing set\n",
        "\n",
        "Keras stateful LSTM model và Facebook Prophet model: \n",
        "\n",
        "2017 - 2018 : Training set\n",
        "\n",
        "2019: Testing set"
      ]
    },
    {
      "cell_type": "markdown",
      "metadata": {
        "id": "wYS9LOqGHMaC"
      },
      "source": [
        "## **Make**"
      ]
    },
    {
      "cell_type": "code",
      "metadata": {
        "id": "_FgCWqTmYCPq",
        "colab": {
          "base_uri": "https://localhost:8080/"
        },
        "outputId": "b45243b4-e8b7-4a66-9834-cf93bc4813e9"
      },
      "source": [
        "pip install pandas_ods_reader"
      ],
      "execution_count": 98,
      "outputs": [
        {
          "output_type": "stream",
          "text": [
            "Requirement already satisfied: pandas_ods_reader in /usr/local/lib/python3.7/dist-packages (0.0.7)\n",
            "Requirement already satisfied: lxml in /usr/local/lib/python3.7/dist-packages (from pandas_ods_reader) (4.2.6)\n",
            "Requirement already satisfied: ezodf in /usr/local/lib/python3.7/dist-packages (from pandas_ods_reader) (0.3.2)\n",
            "Requirement already satisfied: pandas in /usr/local/lib/python3.7/dist-packages (from pandas_ods_reader) (1.1.5)\n",
            "Requirement already satisfied: python-dateutil>=2.7.3 in /usr/local/lib/python3.7/dist-packages (from pandas->pandas_ods_reader) (2.8.1)\n",
            "Requirement already satisfied: pytz>=2017.2 in /usr/local/lib/python3.7/dist-packages (from pandas->pandas_ods_reader) (2018.9)\n",
            "Requirement already satisfied: numpy>=1.15.4 in /usr/local/lib/python3.7/dist-packages (from pandas->pandas_ods_reader) (1.19.5)\n",
            "Requirement already satisfied: six>=1.5 in /usr/local/lib/python3.7/dist-packages (from python-dateutil>=2.7.3->pandas->pandas_ods_reader) (1.15.0)\n"
          ],
          "name": "stdout"
        }
      ]
    },
    {
      "cell_type": "code",
      "metadata": {
        "colab": {
          "base_uri": "https://localhost:8080/"
        },
        "id": "zlbg6AEx5ebL",
        "outputId": "216d1736-2e93-401d-bc4f-4cb8d14353e6"
      },
      "source": [
        "!gdown --id 1j-sLp5Ym82HsM92JhVui3w2_zCAoU890"
      ],
      "execution_count": 99,
      "outputs": [
        {
          "output_type": "stream",
          "text": [
            "Downloading...\n",
            "From: https://drive.google.com/uc?id=1j-sLp5Ym82HsM92JhVui3w2_zCAoU890\n",
            "To: /content/a4360ffb-8320-4178-9adf-bcd92f5870b5.ods\n",
            "\r  0% 0.00/600k [00:00<?, ?B/s]\r100% 600k/600k [00:00<00:00, 84.9MB/s]\n"
          ],
          "name": "stdout"
        }
      ]
    },
    {
      "cell_type": "markdown",
      "metadata": {
        "id": "EM64ZnW2YCPs"
      },
      "source": [
        "## **Import**"
      ]
    },
    {
      "cell_type": "code",
      "metadata": {
        "jupyter": {
          "source_hidden": true
        },
        "id": "vnoje0exYCPs"
      },
      "source": [
        "import time\n",
        "import math\n",
        "import re\n",
        "import pandas as pd\n",
        "import numpy as np\n",
        "%matplotlib inline\n",
        "import matplotlib.pyplot as plt\n",
        "from pandas_ods_reader import read_ods\n",
        "from  matplotlib.ticker import PercentFormatter\n",
        "import seaborn as sns\n",
        " \n",
        "from sklearn.model_selection import train_test_split\n",
        "from sklearn.model_selection import GridSearchCV\n",
        "from sklearn.compose import ColumnTransformer\n",
        "from sklearn.compose import make_column_transformer\n",
        "from sklearn.preprocessing import OneHotEncoder\n",
        "from sklearn.preprocessing import StandardScaler\n",
        "from sklearn.base import BaseEstimator, TransformerMixin\n",
        "from sklearn.impute import SimpleImputer\n",
        "from sklearn.pipeline import Pipeline, make_pipeline\n",
        " \n",
        "from sklearn import set_config\n",
        "# set_config(display='diagram') # Để trực quan hóa pipeline\n",
        " \n",
        "from sklearn.neural_network import MLPRegressor\n",
        "from sklearn.linear_model import LinearRegression, SGDRegressor\n",
        "from sklearn.utils import resample"
      ],
      "execution_count": 100,
      "outputs": []
    },
    {
      "cell_type": "code",
      "metadata": {
        "jupyter": {
          "source_hidden": true
        },
        "id": "usN1H-GYYCPt"
      },
      "source": [
        "#Set Option\n",
        "pd.set_option('max_colwidth', None)\n",
        "pd.set_option('display.max_rows', None)\n",
        "pd.set_option('display.max_columns', None)\n",
        "pd.set_option('display.width', None)\n",
        "sns.set_theme()"
      ],
      "execution_count": 101,
      "outputs": []
    },
    {
      "cell_type": "markdown",
      "metadata": {
        "id": "CUmYc5gDYCPu"
      },
      "source": [
        "## **II. Thu thập dữ liệu**"
      ]
    },
    {
      "cell_type": "code",
      "metadata": {
        "id": "GHaHtxhFjQiD"
      },
      "source": [
        ""
      ],
      "execution_count": 101,
      "outputs": []
    },
    {
      "cell_type": "markdown",
      "metadata": {
        "id": "1XCZplFzYCPu"
      },
      "source": [
        "## **III. Khám phá dữ liệu, tiền xử lý đơn giản và tách tập**"
      ]
    },
    {
      "cell_type": "markdown",
      "metadata": {
        "id": "FOXf9Dq_YCPv"
      },
      "source": [
        "Đầu tiên ta sẽ đọc file dữ liệu vào DataFrame sau đó sẽ khám phá dữ liệu"
      ]
    },
    {
      "cell_type": "code",
      "metadata": {
        "id": "ejhQJDeiYCPv"
      },
      "source": [
        "items_df = read_ods('/content/a4360ffb-8320-4178-9adf-bcd92f5870b5.ods', 'Regions - By severity')"
      ],
      "execution_count": 102,
      "outputs": []
    },
    {
      "cell_type": "code",
      "metadata": {
        "id": "s54UUoB4YCPw",
        "colab": {
          "base_uri": "https://localhost:8080/",
          "height": 142
        },
        "outputId": "1a34259f-135c-4a2f-fafc-556c5395dab0"
      },
      "source": [
        "items_df.head(3)"
      ],
      "execution_count": 103,
      "outputs": [
        {
          "output_type": "execute_result",
          "data": {
            "text/html": [
              "<div>\n",
              "<style scoped>\n",
              "    .dataframe tbody tr th:only-of-type {\n",
              "        vertical-align: middle;\n",
              "    }\n",
              "\n",
              "    .dataframe tbody tr th {\n",
              "        vertical-align: top;\n",
              "    }\n",
              "\n",
              "    .dataframe thead th {\n",
              "        text-align: right;\n",
              "    }\n",
              "</style>\n",
              "<table border=\"1\" class=\"dataframe\">\n",
              "  <thead>\n",
              "    <tr style=\"text-align: right;\">\n",
              "      <th></th>\n",
              "      <th>Accident year</th>\n",
              "      <th>Accident severity</th>\n",
              "      <th>Region</th>\n",
              "      <th>Ons code</th>\n",
              "      <th>Speed limit</th>\n",
              "      <th>Road class</th>\n",
              "      <th>Road type</th>\n",
              "      <th>Junction type</th>\n",
              "      <th>Accidents</th>\n",
              "    </tr>\n",
              "  </thead>\n",
              "  <tbody>\n",
              "    <tr>\n",
              "      <th>0</th>\n",
              "      <td>2012.0</td>\n",
              "      <td>Fatal</td>\n",
              "      <td>North East</td>\n",
              "      <td>E12000001</td>\n",
              "      <td>21-30 mph</td>\n",
              "      <td>A</td>\n",
              "      <td>Roundabout</td>\n",
              "      <td>Roundabout</td>\n",
              "      <td>1.0</td>\n",
              "    </tr>\n",
              "    <tr>\n",
              "      <th>1</th>\n",
              "      <td>2012.0</td>\n",
              "      <td>Fatal</td>\n",
              "      <td>North East</td>\n",
              "      <td>E12000001</td>\n",
              "      <td>21-30 mph</td>\n",
              "      <td>A</td>\n",
              "      <td>Single carriageway</td>\n",
              "      <td>Not at junction or within 20 metres</td>\n",
              "      <td>4.0</td>\n",
              "    </tr>\n",
              "    <tr>\n",
              "      <th>2</th>\n",
              "      <td>2012.0</td>\n",
              "      <td>Fatal</td>\n",
              "      <td>North East</td>\n",
              "      <td>E12000001</td>\n",
              "      <td>21-30 mph</td>\n",
              "      <td>A</td>\n",
              "      <td>Single carriageway</td>\n",
              "      <td>Roundabout</td>\n",
              "      <td>1.0</td>\n",
              "    </tr>\n",
              "  </tbody>\n",
              "</table>\n",
              "</div>"
            ],
            "text/plain": [
              "   Accident year Accident severity      Region   Ons code Speed limit  \\\n",
              "0         2012.0             Fatal  North East  E12000001   21-30 mph   \n",
              "1         2012.0             Fatal  North East  E12000001   21-30 mph   \n",
              "2         2012.0             Fatal  North East  E12000001   21-30 mph   \n",
              "\n",
              "  Road class           Road type                        Junction type  \\\n",
              "0          A          Roundabout                           Roundabout   \n",
              "1          A  Single carriageway  Not at junction or within 20 metres   \n",
              "2          A  Single carriageway                           Roundabout   \n",
              "\n",
              "   Accidents  \n",
              "0        1.0  \n",
              "1        4.0  \n",
              "2        1.0  "
            ]
          },
          "metadata": {
            "tags": []
          },
          "execution_count": 103
        }
      ]
    },
    {
      "cell_type": "code",
      "metadata": {
        "id": "xyjvH7D4YCPy",
        "colab": {
          "base_uri": "https://localhost:8080/"
        },
        "outputId": "2ba27be6-9709-44ca-a3c3-1d2582f98653"
      },
      "source": [
        "items_df.shape"
      ],
      "execution_count": 104,
      "outputs": [
        {
          "output_type": "execute_result",
          "data": {
            "text/plain": [
              "(47217, 9)"
            ]
          },
          "metadata": {
            "tags": []
          },
          "execution_count": 104
        }
      ]
    },
    {
      "cell_type": "markdown",
      "metadata": {
        "id": "BXRRauKHYCPz"
      },
      "source": [
        "### 1. Ý nghĩa của mỗi dòng\n",
        "Quan sát sơ bộ dữ liệu và qua quá trình thu thập dữ liệu, ta thấy mỗi dòng chứa thông tin của một hoặc nhiều vụ tai nạn, và không có vấn đề các dòng có ý nghĩa khác nhau"
      ]
    },
    {
      "cell_type": "markdown",
      "metadata": {
        "id": "pSfUBtuxYCP0"
      },
      "source": [
        "### 2. Kiểm tra các giá trị trùng\n",
        "Ta xem thử có bao nhiêu mẫu bị trùng giá trị"
      ]
    },
    {
      "cell_type": "code",
      "metadata": {
        "id": "6qna_3okYCP0",
        "colab": {
          "base_uri": "https://localhost:8080/"
        },
        "outputId": "b4174cdb-9044-4d7f-e8b1-07d410aec67c"
      },
      "source": [
        "num_duplicated_rows = items_df.duplicated().sum()\n",
        "num_duplicated_rows"
      ],
      "execution_count": 105,
      "outputs": [
        {
          "output_type": "execute_result",
          "data": {
            "text/plain": [
              "0"
            ]
          },
          "metadata": {
            "tags": []
          },
          "execution_count": 105
        }
      ]
    },
    {
      "cell_type": "markdown",
      "metadata": {
        "id": "01FyAIa2YCP1"
      },
      "source": [
        "Xóa các mẫu có giá trị trùng bằng phương thức drop_duplicates của pandas, mặc định giữ lại dòng có giá trị lặp đầu tiên"
      ]
    },
    {
      "cell_type": "code",
      "metadata": {
        "id": "seKlE3v_YCP2"
      },
      "source": [
        "items_df = items_df.drop_duplicates(ignore_index = True)"
      ],
      "execution_count": 106,
      "outputs": []
    },
    {
      "cell_type": "markdown",
      "metadata": {
        "id": "S53ZjW_4YCP3"
      },
      "source": [
        "### 3. Kiểm tra các giá trị không hợp lệ"
      ]
    },
    {
      "cell_type": "markdown",
      "metadata": {
        "id": "z11LN7ULYCP3"
      },
      "source": [
        "Ta kiểm tra các trường hợp:\n",
        "\n",
        "1. Accident year < 0 hoặc > 2019\n",
        "\n",
        "2. Accidents < 1\n",
        "\n",
        "3. Accident year và Accidents có phần thập phân khác 0."
      ]
    },
    {
      "cell_type": "markdown",
      "metadata": {
        "id": "eBtDjjV1YCP4"
      },
      "source": [
        "Xem xét trường hợp 1:"
      ]
    },
    {
      "cell_type": "code",
      "metadata": {
        "id": "FrOZGuJNYCP4",
        "colab": {
          "base_uri": "https://localhost:8080/"
        },
        "outputId": "59ec1fe6-85d2-49f8-f4f9-07612c5cbd81"
      },
      "source": [
        "invalid_Accident_year = (items_df['Accident year'] < 0) | (items_df['Accident year'] > 2019)\n",
        "invalid_Accident_year_vals = invalid_Accident_year.sum()\n",
        "invalid_Accident_year_vals/len(items_df)"
      ],
      "execution_count": 107,
      "outputs": [
        {
          "output_type": "execute_result",
          "data": {
            "text/plain": [
              "0.0"
            ]
          },
          "metadata": {
            "tags": []
          },
          "execution_count": 107
        }
      ]
    },
    {
      "cell_type": "markdown",
      "metadata": {
        "id": "-PzGQJ3pYCP5"
      },
      "source": [
        "Xem xét trường hợp 2:"
      ]
    },
    {
      "cell_type": "code",
      "metadata": {
        "id": "F7aYcO2fYCP5",
        "colab": {
          "base_uri": "https://localhost:8080/"
        },
        "outputId": "85e493e3-0acd-4bb2-e48b-65f043a159ab"
      },
      "source": [
        "invalid_Accidents = (items_df['Accidents'] < 1)\n",
        "invalid_Accidents_vals = invalid_Accidents.sum()\n",
        "invalid_Accidents_vals/len(items_df)"
      ],
      "execution_count": 108,
      "outputs": [
        {
          "output_type": "execute_result",
          "data": {
            "text/plain": [
              "0.0"
            ]
          },
          "metadata": {
            "tags": []
          },
          "execution_count": 108
        }
      ]
    },
    {
      "cell_type": "markdown",
      "metadata": {
        "id": "s5VlnEsVYCP6"
      },
      "source": [
        "Xem xét trường hợp 3:"
      ]
    },
    {
      "cell_type": "code",
      "metadata": {
        "id": "9hjPWOrqYCP6",
        "colab": {
          "base_uri": "https://localhost:8080/"
        },
        "outputId": "860a8dff-f9fb-406d-81bc-4a502560cfbf"
      },
      "source": [
        "invalid_Numeric_Type = (((items_df['Accidents'] - items_df['Accidents'].apply(np.ceil)) != 0) | ((items_df['Accident year'] - items_df['Accident year'].apply(np.ceil)) != 0) )\n",
        "invalid_Numeric_Type_vals = invalid_Numeric_Type.sum()\n",
        "invalid_Numeric_Type_vals/len(items_df)"
      ],
      "execution_count": 109,
      "outputs": [
        {
          "output_type": "execute_result",
          "data": {
            "text/plain": [
              "0.0"
            ]
          },
          "metadata": {
            "tags": []
          },
          "execution_count": 109
        }
      ]
    },
    {
      "cell_type": "markdown",
      "metadata": {
        "id": "mwjEd7avYCP7"
      },
      "source": [
        "Xử lý 3 trường hợp trên: \n",
        "\n",
        "Lưu ý rằng dù không có lỗi trong các trường hợp này nhưng ta không biết dữ liệu mới thế nào, nên ta vẫn bỏ tất cả các dòng bị lỗi (nếu có):"
      ]
    },
    {
      "cell_type": "code",
      "metadata": {
        "id": "gUNjEppcYCP7"
      },
      "source": [
        "items_df = items_df[~invalid_Accident_year]\n",
        "items_df = items_df[~invalid_Accidents]\n",
        "items_df = items_df[~invalid_Numeric_Type]"
      ],
      "execution_count": 110,
      "outputs": []
    },
    {
      "cell_type": "markdown",
      "metadata": {
        "id": "pFH9zXn4YCP8"
      },
      "source": [
        "### 4. Tách các tập\n",
        "Vậy là dữ liệu đã sẵn sàng để tách và khám phá"
      ]
    },
    {
      "cell_type": "code",
      "metadata": {
        "id": "UFrNplBLYCP9"
      },
      "source": [
        "# Tách X và y\n",
        "y_sr = items_df[\"Accidents\"]\n",
        "X_df = items_df.drop(\"Accidents\", axis=1)"
      ],
      "execution_count": 111,
      "outputs": []
    },
    {
      "cell_type": "code",
      "metadata": {
        "id": "k2cfxkf4YCP9"
      },
      "source": [
        "# Tách train và test\n",
        "rest_X_df, test_X_df, rest_y_sr, test_y_sr = train_test_split(X_df, y_sr, test_size=0.2, random_state=0)\n"
      ],
      "execution_count": 112,
      "outputs": []
    },
    {
      "cell_type": "code",
      "metadata": {
        "id": "lwLS-4c2YCP-"
      },
      "source": [
        "# Tách train và validation\n",
        "train_X_df, val_X_df, train_y_sr, val_y_sr = train_test_split(rest_X_df, rest_y_sr, test_size=0.2, random_state=0)"
      ],
      "execution_count": 113,
      "outputs": []
    },
    {
      "cell_type": "code",
      "metadata": {
        "id": "B7jaqa-lYCP_",
        "colab": {
          "base_uri": "https://localhost:8080/"
        },
        "outputId": "e1840c58-4372-4190-ba0a-1deba2a19ed3"
      },
      "source": [
        "train_X_df.shape"
      ],
      "execution_count": 114,
      "outputs": [
        {
          "output_type": "execute_result",
          "data": {
            "text/plain": [
              "(30218, 8)"
            ]
          },
          "metadata": {
            "tags": []
          },
          "execution_count": 114
        }
      ]
    },
    {
      "cell_type": "code",
      "metadata": {
        "id": "9qvmu5WZYCQA",
        "colab": {
          "base_uri": "https://localhost:8080/"
        },
        "outputId": "4a73493d-cdc8-4e13-bdb5-93c065e03370"
      },
      "source": [
        "train_y_sr.shape"
      ],
      "execution_count": 115,
      "outputs": [
        {
          "output_type": "execute_result",
          "data": {
            "text/plain": [
              "(30218,)"
            ]
          },
          "metadata": {
            "tags": []
          },
          "execution_count": 115
        }
      ]
    },
    {
      "cell_type": "code",
      "metadata": {
        "id": "JHUlmLcFYCQA",
        "colab": {
          "base_uri": "https://localhost:8080/"
        },
        "outputId": "ac0f6d4c-12fb-434f-d254-1dccab4ecbc6"
      },
      "source": [
        "val_X_df.shape"
      ],
      "execution_count": 116,
      "outputs": [
        {
          "output_type": "execute_result",
          "data": {
            "text/plain": [
              "(7555, 8)"
            ]
          },
          "metadata": {
            "tags": []
          },
          "execution_count": 116
        }
      ]
    },
    {
      "cell_type": "code",
      "metadata": {
        "id": "7DVjcVFVYCQB",
        "colab": {
          "base_uri": "https://localhost:8080/"
        },
        "outputId": "ba0717e1-9f2b-4317-c199-98f0e06aef2b"
      },
      "source": [
        "val_y_sr.shape"
      ],
      "execution_count": 117,
      "outputs": [
        {
          "output_type": "execute_result",
          "data": {
            "text/plain": [
              "(7555,)"
            ]
          },
          "metadata": {
            "tags": []
          },
          "execution_count": 117
        }
      ]
    },
    {
      "cell_type": "code",
      "metadata": {
        "id": "FICcT1tmYCQB",
        "colab": {
          "base_uri": "https://localhost:8080/"
        },
        "outputId": "ea1ac605-d6c3-431e-cd60-00969178886f"
      },
      "source": [
        "test_X_df.shape"
      ],
      "execution_count": 118,
      "outputs": [
        {
          "output_type": "execute_result",
          "data": {
            "text/plain": [
              "(9444, 8)"
            ]
          },
          "metadata": {
            "tags": []
          },
          "execution_count": 118
        }
      ]
    },
    {
      "cell_type": "code",
      "metadata": {
        "id": "GyXDrHszYCQC",
        "colab": {
          "base_uri": "https://localhost:8080/"
        },
        "outputId": "f450db89-85e4-4ae0-fb78-5d25f3c3e285"
      },
      "source": [
        "test_y_sr.shape"
      ],
      "execution_count": 119,
      "outputs": [
        {
          "output_type": "execute_result",
          "data": {
            "text/plain": [
              "(9444,)"
            ]
          },
          "metadata": {
            "tags": []
          },
          "execution_count": 119
        }
      ]
    },
    {
      "cell_type": "markdown",
      "metadata": {
        "id": "P9oQVZLuYCQC"
      },
      "source": [
        "## **IV. Khám phá dữ liệu (tập huấn luyện)**"
      ]
    },
    {
      "cell_type": "markdown",
      "metadata": {
        "id": "pxsYZgqfYCQD"
      },
      "source": [
        "### **1. Kiểm tra kiểu dữ liệu của input có phù hợp**"
      ]
    },
    {
      "cell_type": "code",
      "metadata": {
        "id": "aI3ZGg5wYCQD",
        "colab": {
          "base_uri": "https://localhost:8080/"
        },
        "outputId": "83152c94-585b-4383-cbc3-49b9877e6f73"
      },
      "source": [
        "train_X_df.dtypes"
      ],
      "execution_count": 120,
      "outputs": [
        {
          "output_type": "execute_result",
          "data": {
            "text/plain": [
              "Accident year        float64\n",
              "Accident severity     object\n",
              "Region                object\n",
              "Ons code              object\n",
              "Speed limit           object\n",
              "Road class            object\n",
              "Road type             object\n",
              "Junction type         object\n",
              "dtype: object"
            ]
          },
          "metadata": {
            "tags": []
          },
          "execution_count": 120
        }
      ]
    },
    {
      "cell_type": "markdown",
      "metadata": {
        "id": "8L2vLdLHYCQD"
      },
      "source": [
        "Ta thấy kiểu dữ liệu của input đã phù hợp"
      ]
    },
    {
      "cell_type": "markdown",
      "metadata": {
        "id": "NQI3Kta7YCQE"
      },
      "source": [
        "### **2. Phân bố giá trị của cột có kiểu dữ liệu dạng số**"
      ]
    },
    {
      "cell_type": "markdown",
      "metadata": {
        "id": "QUGq_ghoYCQE"
      },
      "source": [
        "- Tỉ lệ % (từ 0 đến 100) các giá trị thiếu \n",
        "- Giá trị min\n",
        "- Giá trị lower quartile (phân vị 25)\n",
        "- Giá trị median (phân vị 50)\n",
        "- Giá trị upper quartile (phân vị 75)\n",
        "- Giá trị max\n",
        "\n",
        "Kết quả được lưu vào DataFrame `num_col_info_df`, trong đó: \n",
        "- Tên của các cột là tên của các cột số trong `train_X_df` và output `Accidents`\n",
        "- Tên của các dòng là: \"missing_ratio\", \"min\", \"lower_quartile\", \"median\", \"upper_quartile\", \"max\" "
      ]
    },
    {
      "cell_type": "code",
      "metadata": {
        "id": "BAMXRS_gYCQE",
        "colab": {
          "base_uri": "https://localhost:8080/",
          "height": 235
        },
        "outputId": "3b589a04-e127-43d0-c893-8d0baa1a715d"
      },
      "source": [
        "#Tham khảo [1]\n",
        "def missing_ratio(df):\n",
        "    return (df.isna().mean() * 100).round(1)\n",
        "def lower_quartile(df):\n",
        "    return df.quantile(0.25)\n",
        "def median(df):\n",
        "    return df.quantile(0.5)\n",
        "def upper_quartile(df):\n",
        "    return df.quantile(0.75)\n",
        "num_df = train_X_df.select_dtypes(exclude='object').copy()\n",
        "num_df['Accidents'] = train_y_sr.copy()\n",
        "num_col_info_df = num_df.agg([missing_ratio, min, lower_quartile, median, upper_quartile, max]).round(1)\n",
        "num_col_info_df"
      ],
      "execution_count": 178,
      "outputs": [
        {
          "output_type": "execute_result",
          "data": {
            "text/html": [
              "<div>\n",
              "<style scoped>\n",
              "    .dataframe tbody tr th:only-of-type {\n",
              "        vertical-align: middle;\n",
              "    }\n",
              "\n",
              "    .dataframe tbody tr th {\n",
              "        vertical-align: top;\n",
              "    }\n",
              "\n",
              "    .dataframe thead th {\n",
              "        text-align: right;\n",
              "    }\n",
              "</style>\n",
              "<table border=\"1\" class=\"dataframe\">\n",
              "  <thead>\n",
              "    <tr style=\"text-align: right;\">\n",
              "      <th></th>\n",
              "      <th>Accident year</th>\n",
              "      <th>Accidents</th>\n",
              "    </tr>\n",
              "  </thead>\n",
              "  <tbody>\n",
              "    <tr>\n",
              "      <th>missing_ratio</th>\n",
              "      <td>0.0</td>\n",
              "      <td>0.0</td>\n",
              "    </tr>\n",
              "    <tr>\n",
              "      <th>min</th>\n",
              "      <td>2012.0</td>\n",
              "      <td>1.0</td>\n",
              "    </tr>\n",
              "    <tr>\n",
              "      <th>lower_quartile</th>\n",
              "      <td>2014.0</td>\n",
              "      <td>1.0</td>\n",
              "    </tr>\n",
              "    <tr>\n",
              "      <th>median</th>\n",
              "      <td>2016.0</td>\n",
              "      <td>3.0</td>\n",
              "    </tr>\n",
              "    <tr>\n",
              "      <th>upper_quartile</th>\n",
              "      <td>2018.0</td>\n",
              "      <td>10.0</td>\n",
              "    </tr>\n",
              "    <tr>\n",
              "      <th>max</th>\n",
              "      <td>2019.0</td>\n",
              "      <td>6445.0</td>\n",
              "    </tr>\n",
              "  </tbody>\n",
              "</table>\n",
              "</div>"
            ],
            "text/plain": [
              "                Accident year  Accidents\n",
              "missing_ratio             0.0        0.0\n",
              "min                    2012.0        1.0\n",
              "lower_quartile         2014.0        1.0\n",
              "median                 2016.0        3.0\n",
              "upper_quartile         2018.0       10.0\n",
              "max                    2019.0     6445.0"
            ]
          },
          "metadata": {
            "tags": []
          },
          "execution_count": 178
        }
      ]
    },
    {
      "cell_type": "markdown",
      "metadata": {
        "id": "CeHN_VgRYCQF"
      },
      "source": [
        "Nhận xét: \n",
        "1. Không có thuộc tính nào bị thiếu\n",
        "2. Output có vẻ lệch trái, ta sẽ kiểm tra ở các bước sau."
      ]
    },
    {
      "cell_type": "markdown",
      "metadata": {
        "id": "601XF58jYCQF"
      },
      "source": [
        "### **3. Phân bố giá trị của cột có kiểu dữ liệu không phải dạng số**"
      ]
    },
    {
      "cell_type": "markdown",
      "metadata": {
        "id": "fKqHBh7UYCQF"
      },
      "source": [
        "- Tỉ lệ % (từ 0 đến 100) các giá trị thiếu \n",
        "\n",
        "- Số lượng các giá trị (các giá trị ở đây là các giá trị khác nhau và ta không xét giá trị thiếu)\n",
        "\n",
        "- Tỉ lệ % (từ 0 đến 100) của mỗi giá trị được sort theo tỉ lệ % giảm dần (ta không xét giá trị thiếu, tỉ lệ là tỉ lệ so với số lượng các giá trị không thiếu): dùng dictionary để lưu, key là giá trị, value là tỉ lệ %\n",
        "\n",
        "Kết quả được lưu vào DataFrame `cat_col_info_df`, trong đó: \n",
        "\n",
        "- Tên của các cột là tên của các cột không phải số trong `train_X_df`\n",
        "- Tên của các dòng là: \"missing_ratio\", \"num_values\", \"value_ratios\"  "
      ]
    },
    {
      "cell_type": "code",
      "metadata": {
        "id": "Bb_6Lge8YCQG",
        "colab": {
          "base_uri": "https://localhost:8080/",
          "height": 312
        },
        "outputId": "fb2e2841-e238-471e-cb87-95b6eac38f7a"
      },
      "source": [
        "#Tham khảo [1]\n",
        "def missing_ratio(df):\n",
        "    return (df.isna().mean() * 100).round(1)\n",
        "def num_values(df):\n",
        "    return df.nunique()\n",
        "def value_ratios(c):\n",
        "    return dict((c.value_counts(normalize=True) * 100).round(1))\n",
        "df = train_X_df.select_dtypes(include='object')\n",
        "cat_col_info_df = df.agg([missing_ratio, num_values, value_ratios])\n",
        "cat_col_info_df"
      ],
      "execution_count": 194,
      "outputs": [
        {
          "output_type": "execute_result",
          "data": {
            "text/html": [
              "<div>\n",
              "<style scoped>\n",
              "    .dataframe tbody tr th:only-of-type {\n",
              "        vertical-align: middle;\n",
              "    }\n",
              "\n",
              "    .dataframe tbody tr th {\n",
              "        vertical-align: top;\n",
              "    }\n",
              "\n",
              "    .dataframe thead th {\n",
              "        text-align: right;\n",
              "    }\n",
              "</style>\n",
              "<table border=\"1\" class=\"dataframe\">\n",
              "  <thead>\n",
              "    <tr style=\"text-align: right;\">\n",
              "      <th></th>\n",
              "      <th>Accident severity</th>\n",
              "      <th>Region</th>\n",
              "      <th>Ons code</th>\n",
              "      <th>Speed limit</th>\n",
              "      <th>Road class</th>\n",
              "      <th>Road type</th>\n",
              "      <th>Junction type</th>\n",
              "    </tr>\n",
              "  </thead>\n",
              "  <tbody>\n",
              "    <tr>\n",
              "      <th>missing_ratio</th>\n",
              "      <td>0</td>\n",
              "      <td>0</td>\n",
              "      <td>0</td>\n",
              "      <td>0</td>\n",
              "      <td>0</td>\n",
              "      <td>0</td>\n",
              "      <td>0</td>\n",
              "    </tr>\n",
              "    <tr>\n",
              "      <th>num_values</th>\n",
              "      <td>3</td>\n",
              "      <td>11</td>\n",
              "      <td>11</td>\n",
              "      <td>8</td>\n",
              "      <td>6</td>\n",
              "      <td>6</td>\n",
              "      <td>10</td>\n",
              "    </tr>\n",
              "    <tr>\n",
              "      <th>value_ratios</th>\n",
              "      <td>{'Slight': 59.2, 'Serious': 32.1, 'Fatal': 8.7}</td>\n",
              "      <td>{'South East': 12.3, 'North West': 10.8, 'London': 10.4, 'East of England': 10.1, 'South West': 9.9, 'Scotland': 8.7, 'West Midlands': 8.7, 'Yorkshire and the Humber': 8.4, 'East Midlands': 8.1, 'North East': 6.4, 'Wales': 6.2}</td>\n",
              "      <td>{'E12000008': 12.3, 'E12000002': 10.8, 'E12000007': 10.4, 'E12000006': 10.1, 'E12000009': 9.9, 'S92000003': 8.7, 'E12000005': 8.7, 'E12000003': 8.4, 'E12000004': 8.1, 'E12000001': 6.4, 'W92000004': 6.2}</td>\n",
              "      <td>{'21-30 mph': 36.1, '31-40 mph': 17.1, '51-60 mph': 15.5, '1-20 mph': 11.7, '41-50 mph': 10.4, '61-70 mph': 5.1, 'Motorway': 4.1, 'Unknown': 0.1}</td>\n",
              "      <td>{'A': 40.0, 'Unclassified': 25.0, 'B': 19.3, 'C': 11.6, 'Motorway': 3.1, 'A(M)': 1.0}</td>\n",
              "      <td>{'Single carriageway': 42.8, 'Dual carriageway': 24.6, 'Roundabout': 9.8, 'One way street ': 8.9, 'Slip road ': 8.2, 'Unknown': 5.7}</td>\n",
              "      <td>{'Not at junction or within 20 metres': 23.0, 'T or staggered junction': 17.3, 'Roundabout': 14.1, 'Crossroads': 11.3, 'Other junction': 9.3, 'Private drive or entrance': 7.9, 'Slip road': 7.4, 'More than 4 arms (not roundabout)': 4.7, 'Mini-roundabout': 4.4, 'Unknown': 0.5}</td>\n",
              "    </tr>\n",
              "  </tbody>\n",
              "</table>\n",
              "</div>"
            ],
            "text/plain": [
              "                                             Accident severity  \\\n",
              "missing_ratio                                                0   \n",
              "num_values                                                   3   \n",
              "value_ratios   {'Slight': 59.2, 'Serious': 32.1, 'Fatal': 8.7}   \n",
              "\n",
              "                                                                                                                                                                                                                                            Region  \\\n",
              "missing_ratio                                                                                                                                                                                                                                    0   \n",
              "num_values                                                                                                                                                                                                                                      11   \n",
              "value_ratios   {'South East': 12.3, 'North West': 10.8, 'London': 10.4, 'East of England': 10.1, 'South West': 9.9, 'Scotland': 8.7, 'West Midlands': 8.7, 'Yorkshire and the Humber': 8.4, 'East Midlands': 8.1, 'North East': 6.4, 'Wales': 6.2}   \n",
              "\n",
              "                                                                                                                                                                                                                 Ons code  \\\n",
              "missing_ratio                                                                                                                                                                                                           0   \n",
              "num_values                                                                                                                                                                                                             11   \n",
              "value_ratios   {'E12000008': 12.3, 'E12000002': 10.8, 'E12000007': 10.4, 'E12000006': 10.1, 'E12000009': 9.9, 'S92000003': 8.7, 'E12000005': 8.7, 'E12000003': 8.4, 'E12000004': 8.1, 'E12000001': 6.4, 'W92000004': 6.2}   \n",
              "\n",
              "                                                                                                                                                     Speed limit  \\\n",
              "missing_ratio                                                                                                                                                  0   \n",
              "num_values                                                                                                                                                     8   \n",
              "value_ratios   {'21-30 mph': 36.1, '31-40 mph': 17.1, '51-60 mph': 15.5, '1-20 mph': 11.7, '41-50 mph': 10.4, '61-70 mph': 5.1, 'Motorway': 4.1, 'Unknown': 0.1}   \n",
              "\n",
              "                                                                                          Road class  \\\n",
              "missing_ratio                                                                                      0   \n",
              "num_values                                                                                         6   \n",
              "value_ratios   {'A': 40.0, 'Unclassified': 25.0, 'B': 19.3, 'C': 11.6, 'Motorway': 3.1, 'A(M)': 1.0}   \n",
              "\n",
              "                                                                                                                                          Road type  \\\n",
              "missing_ratio                                                                                                                                     0   \n",
              "num_values                                                                                                                                        6   \n",
              "value_ratios   {'Single carriageway': 42.8, 'Dual carriageway': 24.6, 'Roundabout': 9.8, 'One way street ': 8.9, 'Slip road ': 8.2, 'Unknown': 5.7}   \n",
              "\n",
              "                                                                                                                                                                                                                                                                                     Junction type  \n",
              "missing_ratio                                                                                                                                                                                                                                                                                    0  \n",
              "num_values                                                                                                                                                                                                                                                                                      10  \n",
              "value_ratios   {'Not at junction or within 20 metres': 23.0, 'T or staggered junction': 17.3, 'Roundabout': 14.1, 'Crossroads': 11.3, 'Other junction': 9.3, 'Private drive or entrance': 7.9, 'Slip road': 7.4, 'More than 4 arms (not roundabout)': 4.7, 'Mini-roundabout': 4.4, 'Unknown': 0.5}  "
            ]
          },
          "metadata": {
            "tags": []
          },
          "execution_count": 194
        }
      ]
    },
    {
      "cell_type": "markdown",
      "metadata": {
        "id": "59iXy0EYYCQH"
      },
      "source": [
        "Ta có thể thấy, trong 8 năm từ năm 2012 đến 2019:\n",
        "\n",
        "1. Đa phần `tai nạn nhẹ` với 59.2%, `tai nạn gây chết người` chỉ chiếm 8.7%\n",
        "2. Số lượng tại nạn ở các vùng là tương tự nhau, trừ `South East` cao nhất chiếm đến 12.3% trong 11 vùng, và hai vùng `North East` chỉ 6.4% cùng `Wales` chỉ chiếm 6.2% là hai vùng có số lượng tai nạn thấp nhất. Có lẽ ta cần phân tích kỹ vào hai vùng này để tìm cách giảm lượng tai nạn.\n",
        "3. Tai nạn lại thường xảy ra nhiều ở tốc độ giới hạn `21-30 mph` với 36.1%, trong khi tốc độ giới hạn cao nhất là `61-70 mph` chỉ chiếm 5.1% các vụ tai nạn. Ta thấy có giá trị thiếu ở cột `Speed limit` được thể hiện bằng chuỗi `Unknown`, và chỉ chiếm 0.1%, nên ta có thể điền giá trị thiếu sau.\n",
        "4. `Road class A` thường xuyên xảy ra các vụ tai nạn nhất, với 40% các vụ tai nạn xảy ra ở road class này. Trong khi `Road Class: Mortorway` và `A(M)` chỉ chiếm 3.15% và 1.0% trong số các vụ tai nạn, đây có lẽ là hai road class ta cần hường tới để giảm thiểu tai nạn.\n",
        "5. `Single carriageway`: Đường đơn (đường hai chiều) là nơi thường xuyên xảy ra tai nạn với 42.8% các vụ tai nạn xảy ra ở đây. `Slip road` chỉ chiếm 8.2% và `Unknown road` 5.7% Ta có thể xem `Unknown` không là một giá trị thiếu vì nó chiếm đến 5.7% và có thể có ý nghĩa riêng.\n",
        "6. `Not at junction or within 20 metres` chiếm phần trăm cao nhất: 23% trong `Junction type`, `Mini-roundabout` chỉ chiếm 4.4% và `Unknown` 0.5% là hai giá trị chiếm phần trăm thấp nhất trong cột này. Với 0.5%, ta xem Unknow là một giá trị thiếu và sẽ điền sau. \n",
        "7. Ta có thể xem xét đề ra một số biện pháp như đặt các biển báo nguy hiểm nổi bật ở những nơi giao nhau nguy hiểm, nếu có nhiều lựa chọn xây dựng nên chọn loại ít xảy ra tai nạn hơn,...\n",
        "\n",
        "Các nhận xét trên đưa ra cho ta một cái nhìn tổng quát, tuy nhiên ta cần đi phân tích sâu hơn để biết rằng các vụ tai nạn biến đổi như thế nào theo thời gian, và là tai nạn chết người, nghiêm trọng, hay nhẹ để đánh giá đúng hơn."
      ]
    },
    {
      "cell_type": "markdown",
      "metadata": {
        "id": "XtGWqhq7YCQI"
      },
      "source": [
        "## **V. Tiền xử lý (tập huấn luyện)**"
      ]
    },
    {
      "cell_type": "markdown",
      "metadata": {
        "id": "lPB-TQq3YCQJ"
      },
      "source": [
        "### 1. Bỏ cột\n",
        "\n",
        "Ta sẽ tiến hành bỏ những cột sau:\n",
        "\n",
        " - Bỏ cột `Ons Code`: Cột này tương đương với cột `Region`, có thể dùng để get API thông tin về Region đó như tổng số lượng phương tiện vào các năm, tuy nhiên, các thông số đó không cần thiết trong đồ án này, nên ta bỏ cột `Ons Code`\n",
        " - Bỏ cột `Accident severity`: Mục đích của ta khi huấn luyện model là tìm mối tương quan giữa số vụ tai nạn, và các thuộc tính con người có thể thay đổi được, `Accident severity` không nằm trong nhóm này, thậm chí nó có thể dùng làm output cho một bài toán huấn luyện model khác, nên ta bỏ cột."
      ]
    },
    {
      "cell_type": "markdown",
      "metadata": {
        "id": "abBu-BL6YCQJ"
      },
      "source": [
        "### 2. Chuyển `Unknown` ở một số cột thành np.nan\n",
        "\n",
        "Như đã phân tích ở [IV.3. Phân bố giá trị của cột có kiểu dữ liệu không phải dạng số](#3.-Phân-bố-giá-trị-của-cột-có-kiểu-dữ-liệu-không-phải-dạng-số) ta đổi `Unknown` thành np.nan ở các cột `Junction type` và `Speed limit`"
      ]
    },
    {
      "cell_type": "markdown",
      "metadata": {
        "id": "cUG9-tvIYCQK"
      },
      "source": [
        "### 3. Bỏ các dòng có trên 3 giá trị thiếu, và các cột thiếu tất cả các giá trị\n",
        "\n",
        "Tuy data của chúng ta hiện không có giá trị thiếu, nhưng ta không biết data mới có bị thiếu hay không, hoặc sau khi chuyển `Unknown` ở một số cột thành np.nan, giá trị thiếu ở một dòng quá nhiều, nên ta sẽ bỏ các dòng có trên 3 giá trị thiếu, và các cột thiếu tất cả các giá trị\n",
        "\n"
      ]
    },
    {
      "cell_type": "markdown",
      "metadata": {
        "id": "M8Y14gSAYCQS"
      },
      "source": [
        "Class ColAdderDropper sẽ thực hiện các bước trên:"
      ]
    },
    {
      "cell_type": "code",
      "metadata": {
        "id": "aoxXjqhwYCQT"
      },
      "source": [
        "class ColAdderDropper(BaseEstimator, TransformerMixin):\n",
        "    def __init__(self):\n",
        "        pass\n",
        "    def fit(self, X_df, y=None):\n",
        "        return self\n",
        "    def transform(self, X_df, y=None):\n",
        "        tf_df = X_df.copy()\n",
        "        \n",
        "        # Bước 1\n",
        "        \n",
        "        #if Ons code has not exist yet\n",
        "        tf_df['Ons code'] = np.nan\n",
        "        ##\n",
        "        \n",
        "        tf_df = tf_df.drop(['Ons code', 'Accident severity', 'Accident year'], axis=1)\n",
        "        \n",
        "        # Bước 2\n",
        "        tf_df['Junction type'] = tf_df['Junction type'].replace('Unknown', np.nan)\n",
        "        tf_df['Speed limit'] = tf_df['Speed limit'].replace('Unknown', np.nan)\n",
        "        \n",
        "        # Bước 3\n",
        "        tf_df = tf_df.dropna(axis = 0, thresh = 3)\n",
        "        tf_df = tf_df.dropna(axis = 1, how = 'all')\n",
        "        return tf_df"
      ],
      "execution_count": 123,
      "outputs": []
    },
    {
      "cell_type": "code",
      "metadata": {
        "id": "60Gcz8EJYCQU"
      },
      "source": [
        "class ColAdderDropperInsight(BaseEstimator, TransformerMixin):\n",
        "    def __init__(self):\n",
        "        pass\n",
        "    def fit(self, X_df, y=None):\n",
        "        return self\n",
        "    def transform(self, X_df, y=None):\n",
        "        tf_df = X_df.copy()\n",
        "        \n",
        "        # Bước 1\n",
        "        \n",
        "        #if Ons code has not exist yet\n",
        "        tf_df['Ons code'] = np.nan\n",
        "        ##\n",
        "        \n",
        "        tf_df = tf_df.drop(['Ons code'], axis=1)\n",
        "        \n",
        "        # Bước 2\n",
        "        tf_df['Junction type'] = tf_df['Junction type'].replace('Unknown', np.nan)\n",
        "        tf_df['Speed limit'] = tf_df['Speed limit'].replace('Unknown', np.nan)\n",
        "        \n",
        "        # Bước 3\n",
        "        tf_df = tf_df.dropna(axis = 0, thresh = 3)\n",
        "        tf_df = tf_df.dropna(axis = 1, how = 'all')\n",
        "        return tf_df"
      ],
      "execution_count": 124,
      "outputs": []
    },
    {
      "cell_type": "code",
      "metadata": {
        "id": "Fa5lo8YeYCQU",
        "colab": {
          "base_uri": "https://localhost:8080/"
        },
        "outputId": "368fd20a-49f3-4a9c-8f47-a32443e61fdd"
      },
      "source": [
        "# Test\n",
        "col_adderdropper = ColAdderDropper()\n",
        "fewer_cols_train_X_df = col_adderdropper.fit_transform(train_X_df)\n",
        "fewer_cols_train_X_df.shape"
      ],
      "execution_count": 125,
      "outputs": [
        {
          "output_type": "execute_result",
          "data": {
            "text/plain": [
              "(30218, 5)"
            ]
          },
          "metadata": {
            "tags": []
          },
          "execution_count": 125
        }
      ]
    },
    {
      "cell_type": "code",
      "metadata": {
        "id": "vNxUFAsYYCQV",
        "colab": {
          "base_uri": "https://localhost:8080/"
        },
        "outputId": "97113cfc-6ee8-4d16-8823-5ca90a31fb9e"
      },
      "source": [
        "fewer_cols_train_X_df.info()"
      ],
      "execution_count": 126,
      "outputs": [
        {
          "output_type": "stream",
          "text": [
            "<class 'pandas.core.frame.DataFrame'>\n",
            "Int64Index: 30218 entries, 17196 to 15397\n",
            "Data columns (total 5 columns):\n",
            " #   Column         Non-Null Count  Dtype \n",
            "---  ------         --------------  ----- \n",
            " 0   Region         30218 non-null  object\n",
            " 1   Speed limit    30202 non-null  object\n",
            " 2   Road class     30218 non-null  object\n",
            " 3   Road type      30218 non-null  object\n",
            " 4   Junction type  30056 non-null  object\n",
            "dtypes: object(5)\n",
            "memory usage: 1.4+ MB\n"
          ],
          "name": "stdout"
        }
      ]
    },
    {
      "cell_type": "markdown",
      "metadata": {
        "id": "UenL39UOYCQV"
      },
      "source": [
        "### 4. Xử lý giá trị thiếu\n",
        "\n",
        "- Với các thuộc tính bị thiếu toàn bộ dữ liệu, các mẫu bị thiếu từ 15 thuộc tính ta đã xử lý ở class ColAdderDropper phía trên bằng 2 dòng lệnh sau:\n",
        "```python\n",
        "tf_df = tf_df.dropna(axis = 0, thresh = 15)\n",
        "tf_df = tf_df.dropna(axis = 1, how = 'all')\n",
        "```\n",
        "- Với các cột dạng số, ta sẽ điền giá trị thiếu bằng giá trị mean của cột <font color=gray>(dùng `SimpleImputer` trong Sklearn)</font>. Với *tất cả* các cột dạng số trong tập huấn luyện, ta đều cần tính mean, vì ta không biết được cột nào sẽ bị thiếu giá trị khi dự đoán với các véc-tơ input mới. \n",
        "\n",
        "- Với các cột không phải dạng số và không có thứ tự:\n",
        "\n",
        "    - Ta sẽ điền giá trị thiếu bằng giá trị mode (giá trị xuất hiện nhiều nhất) của cột <font color=gray>(dùng `SimpleImputer` trong Sklearn)</font>. Với *tất cả* các cột không có dạng số và không có thứ tự, ta đều cần tính mode, vì ta không biết được cột nào sẽ bị thiếu giá trị khi dự đoán với các véc-tơ input mới.\n",
        "    - Sau đó, ta sẽ chuyển sang dạng số bằng phương pháp mã hóa one-hot <font color=gray>(dùng `OneHotEncoder` trong Sklearn, tham số `handle_unknown` = 'ignore' vì khi dự đoán với các véc-tơ input mới ta không biết được cột nào sẽ bị thiếu giá trị)</font>.\n",
        "\n",
        "\n",
        "- Với cột không phải dạng số và có thứ tự:\n",
        "\n",
        "    - Data của ta không có cột dạng này, kể cả cột `Speed limit` do có giá trị `Motorway` nên không là cột có thứ tự"
      ]
    },
    {
      "cell_type": "code",
      "metadata": {
        "id": "P-aa9BAlYCQW"
      },
      "source": [
        "time_series_col = ['Accident year']\n",
        "nume_cols = ['Accident year']\n",
        "unorder_cate_cols = ['Region', 'Speed limit', 'Road class', 'Road type', 'Junction type']\n",
        "unorder_cate_cols_Insight = ['Region', 'Speed limit', 'Road class', 'Road type', 'Junction type', 'Accident severity']\n",
        "# order_cate_cols = ['']\n",
        "\n",
        "imp_mean = SimpleImputer(missing_values=np.nan, strategy='mean')\n",
        "imp_mode = SimpleImputer(missing_values=np.nan, strategy='most_frequent')\n",
        "enc = OneHotEncoder(handle_unknown='ignore')\n",
        "unorder_cate_pipeline = make_pipeline(imp_mode, enc)\n",
        "column_transformer = ColumnTransformer(transformers = [('unorder_categorical', unorder_cate_pipeline, unorder_cate_cols)], remainder='passthrough')\n",
        "\n",
        "column_transformer_for_find_Insight = ColumnTransformer(transformers = [('numerical', imp_mean, nume_cols),\n",
        "                                                                        ('unorder_categorical', imp_mode, unorder_cate_cols_Insight),\n",
        "                                                                        ('y',imp_mean,['Accidents'])], remainder='passthrough')\n",
        "#('order_categorical', imp_mode, order_cate_cols)\n",
        "# "
      ],
      "execution_count": 127,
      "outputs": []
    },
    {
      "cell_type": "markdown",
      "metadata": {
        "id": "IwQ4Kj4BYCQW"
      },
      "source": [
        "### 5. Chuẩn hóa\n",
        "\n",
        "Ta không chuẩn hóa các cột được chuyển từ dạng categorical vì đây là dạng ma trận thưa, và về mặt ý nghĩa, các giá trị của nó mang tính chất rời rạc.\n",
        "\n",
        "Cuối cùng, khi tất cả các cột dạng numerical đã được điền giá trị thiếu và đã có dạng số, ta sẽ tiến hành chuẩn hóa bằng cách trừ đi mean và chia cho độ lệch chuẩn của cột để giúp cho một số thuật toán như PCA, T-SNE,... chạy chính xác"
      ]
    },
    {
      "cell_type": "markdown",
      "metadata": {
        "id": "Nq4f3DoEYCQX"
      },
      "source": [
        "### 6. Tạo pipeline"
      ]
    },
    {
      "cell_type": "code",
      "metadata": {
        "id": "hdDmmdvoYCQX"
      },
      "source": [
        "# preprocess_pipeline = make_pipeline(ColAdderDropper(), column_transformer, StandardScaler(with_mean=False))\n",
        "preprocess_pipeline = make_pipeline(ColAdderDropper(), column_transformer)\n",
        "preprocess_pipeline_Insight = make_pipeline(ColAdderDropperInsight(), column_transformer_for_find_Insight)"
      ],
      "execution_count": 128,
      "outputs": []
    },
    {
      "cell_type": "code",
      "metadata": {
        "id": "Ki6XLXshYCQX"
      },
      "source": [
        "preprocessed_train_X = preprocess_pipeline.fit_transform(train_X_df)\n",
        "preprocessed_val_X = preprocess_pipeline.transform(val_X_df)"
      ],
      "execution_count": 129,
      "outputs": []
    },
    {
      "cell_type": "code",
      "metadata": {
        "id": "ktn8bd5GYCQY",
        "colab": {
          "base_uri": "https://localhost:8080/"
        },
        "outputId": "3eef2ec2-6515-41bc-e433-ae7907649d41"
      },
      "source": [
        "preprocessed_train_X.shape"
      ],
      "execution_count": 130,
      "outputs": [
        {
          "output_type": "execute_result",
          "data": {
            "text/plain": [
              "(30218, 39)"
            ]
          },
          "metadata": {
            "tags": []
          },
          "execution_count": 130
        }
      ]
    },
    {
      "cell_type": "code",
      "metadata": {
        "id": "tAZvrUXKYCQY",
        "colab": {
          "base_uri": "https://localhost:8080/"
        },
        "outputId": "a405a417-0997-43ee-ffcb-adb7dc8af670"
      },
      "source": [
        "preprocessed_val_X.shape"
      ],
      "execution_count": 131,
      "outputs": [
        {
          "output_type": "execute_result",
          "data": {
            "text/plain": [
              "(7555, 39)"
            ]
          },
          "metadata": {
            "tags": []
          },
          "execution_count": 131
        }
      ]
    },
    {
      "cell_type": "markdown",
      "metadata": {
        "id": "VlLExSJIYCQZ"
      },
      "source": [
        "### 7. Xem covariance matrix (Vẽ cho biết, khi nào nộp xóa)"
      ]
    },
    {
      "cell_type": "code",
      "metadata": {
        "id": "LY2htPwGYCQZ"
      },
      "source": [
        "x_for_cov_df = train_X_df.copy()\n",
        "x_for_cov_df['Accidents'] = train_y_sr.copy()"
      ],
      "execution_count": 132,
      "outputs": []
    },
    {
      "cell_type": "code",
      "metadata": {
        "id": "b1qNCZiWYCQZ"
      },
      "source": [
        "x_for_cov = preprocess_pipeline.fit_transform(x_for_cov_df)\n",
        "x_for_cov = x_for_cov.todense()"
      ],
      "execution_count": 133,
      "outputs": []
    },
    {
      "cell_type": "code",
      "metadata": {
        "id": "bHlxzF2vYCQa",
        "colab": {
          "base_uri": "https://localhost:8080/",
          "height": 0
        },
        "outputId": "309ca582-bc69-4b63-cd3e-59f3131f6760"
      },
      "source": [
        "cov_mat =np.cov(x_for_cov.T)\n",
        "plt.figure(figsize=(30,30))\n",
        "sns.set(font_scale=1.5)\n",
        "hm = sns.heatmap(cov_mat,\n",
        "                 cbar=True,\n",
        "                 annot=True,\n",
        "                 square=True,\n",
        "                 linewidths=.5,\n",
        "                 fmt='.2f',\n",
        "                 yticklabels=x_for_cov_df.columns,\n",
        "                 xticklabels=x_for_cov_df.columns)\n",
        "plt.title('Covariance matrix showing correlation coefficients')\n",
        "plt.tight_layout()\n",
        "plt.show()"
      ],
      "execution_count": 134,
      "outputs": [
        {
          "output_type": "display_data",
          "data": {
            "image/png": "[encoded data removed]",
            "text/plain": [
              "<Figure size 2160x2160 with 2 Axes>"
            ]
          },
          "metadata": {
            "tags": []
          }
        }
      ]
    },
    {
      "cell_type": "markdown",
      "metadata": {
        "id": "g-2MYIIHYCQa"
      },
      "source": [
        "##**VI. Mô hình hóa dữ liệu**"
      ]
    },
    {
      "cell_type": "markdown",
      "metadata": {
        "id": "fo78FHPnYCQa"
      },
      "source": [
        "### 1. Tìm mô hình tốt nhất\n",
        "\n",
        "Do output là kiểu số thực liên tục nên ta sẽ sử dụng mô hình hồi quy để dự đoán các input mới, ta sẽ sử dụng model sau:\n",
        "\n",
        "- Hồi quy tuyến tính bằng máy học\n",
        "- Hồi quy tuyến tính bằng toán thống kê\n",
        "- Keras stateful LSTM model\n",
        "- Facebook Prophet model"
      ]
    },
    {
      "cell_type": "markdown",
      "metadata": {
        "id": "4KQtD2QFYCQb"
      },
      "source": [
        "Đầu tiên, đối với các mô hình hồi quy này thì ta sử dụng độ đo $R^2$ để đánh giá độ lỗi vì độ đo MSE không cho ta biết được cụ thể chất lượng của mô hình \n",
        "\n",
        "$R^2$ cho biết độ phù hợp của mô hình, người ta nghiên cứu được rằng, với $R^2$ > 0.5 thì một mô hình được đánh giá là phù hợp"
      ]
    },
    {
      "cell_type": "markdown",
      "metadata": {
        "id": "x_YiHS_5YCQb"
      },
      "source": [
        "#### Huấn luyện mô hình hồi quy tuyến tính "
      ]
    },
    {
      "cell_type": "code",
      "metadata": {
        "id": "mTI0d8dyYCQb"
      },
      "source": [
        "linear_full_pipeline = make_pipeline(ColAdderDropper(), column_transformer, LinearRegression())\n",
        "linear_full_pipeline.fit(train_X_df, train_y_sr);"
      ],
      "execution_count": 135,
      "outputs": []
    },
    {
      "cell_type": "code",
      "metadata": {
        "id": "EDAiGnanYCQc",
        "colab": {
          "base_uri": "https://localhost:8080/"
        },
        "outputId": "9ffa4751-7379-4963-c4ee-b43c52014d0e"
      },
      "source": [
        "# R^2 tập validation\n",
        "linear_full_pipeline.score(val_X_df, val_y_sr)"
      ],
      "execution_count": 136,
      "outputs": [
        {
          "output_type": "execute_result",
          "data": {
            "text/plain": [
              "0.08820403116535513"
            ]
          },
          "metadata": {
            "tags": []
          },
          "execution_count": 136
        }
      ]
    },
    {
      "cell_type": "markdown",
      "metadata": {
        "id": "Z_53mKYEYCQc"
      },
      "source": [
        "Score < 0.5, **không** thỏa tiêu chí đặt ra"
      ]
    },
    {
      "cell_type": "code",
      "metadata": {
        "id": "-_PZbrKKYCQc"
      },
      "source": [
        ""
      ],
      "execution_count": 136,
      "outputs": []
    },
    {
      "cell_type": "markdown",
      "metadata": {
        "id": "1dRLRrn9YCQd"
      },
      "source": [
        "==="
      ]
    },
    {
      "cell_type": "markdown",
      "metadata": {
        "id": "R1zvZewhYCQd"
      },
      "source": [
        "### 1. Kiểm tra output hợp lệ (sau khi chia train/test)\n",
        "\n",
        "Ta kiểm tra xem dữ liệu thu được có đủ điều kiện để mô hình hóa hay không? Vì đây là bài toán hồi qui nên cột output bắt buộc phải có dạng số; nếu hiện chưa có dạng số (ví dụ, số nhưng được lưu dưới dạng chuỗi) thì ta cần chuyển sang dạng số rồi mới tách các tập"
      ]
    },
    {
      "cell_type": "code",
      "metadata": {
        "id": "y6gSiPZ-YCQe",
        "colab": {
          "base_uri": "https://localhost:8080/"
        },
        "outputId": "50711b06-1382-4961-9449-1d6402e82063"
      },
      "source": [
        "# Xem phân bố các giá trị của output\n",
        "items_df['Accidents'].describe()"
      ],
      "execution_count": 137,
      "outputs": [
        {
          "output_type": "execute_result",
          "data": {
            "text/plain": [
              "count    47217.000000\n",
              "mean        22.815998\n",
              "std        106.902855\n",
              "min          1.000000\n",
              "25%          1.000000\n",
              "50%          3.000000\n",
              "75%         10.000000\n",
              "max       6445.000000\n",
              "Name: Accidents, dtype: float64"
            ]
          },
          "metadata": {
            "tags": []
          },
          "execution_count": 137
        }
      ]
    },
    {
      "cell_type": "code",
      "metadata": {
        "id": "EK9t8h8lYCQe",
        "colab": {
          "base_uri": "https://localhost:8080/",
          "height": 204
        },
        "outputId": "396b37ca-1696-4d26-a929-694abb802c97"
      },
      "source": [
        "Accidents_df = items_df['Accidents'].value_counts().rename_axis('Accidents').reset_index(name='Frequency')\n",
        "Accidents_df.head()\n"
      ],
      "execution_count": 138,
      "outputs": [
        {
          "output_type": "execute_result",
          "data": {
            "text/html": [
              "<div>\n",
              "<style scoped>\n",
              "    .dataframe tbody tr th:only-of-type {\n",
              "        vertical-align: middle;\n",
              "    }\n",
              "\n",
              "    .dataframe tbody tr th {\n",
              "        vertical-align: top;\n",
              "    }\n",
              "\n",
              "    .dataframe thead th {\n",
              "        text-align: right;\n",
              "    }\n",
              "</style>\n",
              "<table border=\"1\" class=\"dataframe\">\n",
              "  <thead>\n",
              "    <tr style=\"text-align: right;\">\n",
              "      <th></th>\n",
              "      <th>Accidents</th>\n",
              "      <th>Frequency</th>\n",
              "    </tr>\n",
              "  </thead>\n",
              "  <tbody>\n",
              "    <tr>\n",
              "      <th>0</th>\n",
              "      <td>1.0</td>\n",
              "      <td>16211</td>\n",
              "    </tr>\n",
              "    <tr>\n",
              "      <th>1</th>\n",
              "      <td>2.0</td>\n",
              "      <td>6265</td>\n",
              "    </tr>\n",
              "    <tr>\n",
              "      <th>2</th>\n",
              "      <td>3.0</td>\n",
              "      <td>3574</td>\n",
              "    </tr>\n",
              "    <tr>\n",
              "      <th>3</th>\n",
              "      <td>4.0</td>\n",
              "      <td>2550</td>\n",
              "    </tr>\n",
              "    <tr>\n",
              "      <th>4</th>\n",
              "      <td>5.0</td>\n",
              "      <td>1934</td>\n",
              "    </tr>\n",
              "  </tbody>\n",
              "</table>\n",
              "</div>"
            ],
            "text/plain": [
              "   Accidents  Frequency\n",
              "0        1.0      16211\n",
              "1        2.0       6265\n",
              "2        3.0       3574\n",
              "3        4.0       2550\n",
              "4        5.0       1934"
            ]
          },
          "metadata": {
            "tags": []
          },
          "execution_count": 138
        }
      ]
    },
    {
      "cell_type": "code",
      "metadata": {
        "id": "J-GCGq4xYCQf",
        "colab": {
          "base_uri": "https://localhost:8080/",
          "height": 315
        },
        "outputId": "2b3a1185-f8f0-45fd-9e32-5ab0c95e21bd"
      },
      "source": [
        "plt.axis([1, 15, 0, 16211])\n",
        "sns.lineplot(data = Accidents_df, x = 'Accidents', y = 'Frequency')"
      ],
      "execution_count": 139,
      "outputs": [
        {
          "output_type": "execute_result",
          "data": {
            "text/plain": [
              "<matplotlib.axes._subplots.AxesSubplot at 0x7faef1cf5090>"
            ]
          },
          "metadata": {
            "tags": []
          },
          "execution_count": 139
        },
        {
          "output_type": "display_data",
          "data": {
            "image/png": "[encoded data removed]",
            "text/plain": [
              "<Figure size 432x288 with 1 Axes>"
            ]
          },
          "metadata": {
            "tags": []
          }
        }
      ]
    },
    {
      "cell_type": "code",
      "metadata": {
        "id": "_JW5agIQYCQf"
      },
      "source": [
        "def reduce_skew(df, column, s=0.6):\n",
        "    k = df.copy()\n",
        "    while (np.log(k[column] + 1).skew() > s):\n",
        "        vc = k[column].value_counts()\n",
        "        mf = vc.index[0]\n",
        "        if len(vc[vc < vc[0]]):\n",
        "            sf_n = vc[vc < vc[0]].iloc[0]\n",
        "        else:\n",
        "            break\n",
        "        mf_sample = k[k[column] == mf]\n",
        "        not_mf_sample = k[k[column] != mf]\n",
        "        undersampled = resample(mf_sample, replace = False,\n",
        "                                    n_samples = sf_n, random_state = 0)\n",
        "        k = pd.concat([undersampled, not_mf_sample])\n",
        "    return k"
      ],
      "execution_count": 140,
      "outputs": []
    },
    {
      "cell_type": "code",
      "metadata": {
        "id": "XucCQgSoYCQg"
      },
      "source": [
        "num_df = num_df.reset_index()\n",
        "num_df = num_df.drop(['index'],1)"
      ],
      "execution_count": 141,
      "outputs": []
    },
    {
      "cell_type": "code",
      "metadata": {
        "id": "SDr8lHz9YCQg"
      },
      "source": [
        "# x = reduce_skew(num_df, 'Accidents', 0.9)\n",
        "# x.shape"
      ],
      "execution_count": 142,
      "outputs": []
    },
    {
      "cell_type": "markdown",
      "metadata": {
        "id": "bHiWoJoKYCQg"
      },
      "source": [
        "## **VII. Phân tích Dữ Liệu Tìm Insight**"
      ]
    },
    {
      "cell_type": "code",
      "metadata": {
        "id": "CE83I_GNYCQh"
      },
      "source": [
        "items_df_preprocessed = preprocess_pipeline_Insight.fit_transform(items_df)"
      ],
      "execution_count": 143,
      "outputs": []
    },
    {
      "cell_type": "code",
      "metadata": {
        "id": "jdtITS46YCQh",
        "colab": {
          "base_uri": "https://localhost:8080/"
        },
        "outputId": "f2cd0046-ba2e-4f9f-d21d-1450d622c9f0"
      },
      "source": [
        "items_df_preprocessed"
      ],
      "execution_count": 144,
      "outputs": [
        {
          "output_type": "execute_result",
          "data": {
            "text/plain": [
              "array([[2012.0, 'North East', '21-30 mph', ..., 'Roundabout', 'Fatal',\n",
              "        1.0],\n",
              "       [2012.0, 'North East', '21-30 mph', ...,\n",
              "        'Not at junction or within 20 metres', 'Fatal', 4.0],\n",
              "       [2012.0, 'North East', '21-30 mph', ..., 'Roundabout', 'Fatal',\n",
              "        1.0],\n",
              "       ...,\n",
              "       [2019.0, 'Scotland', 'Motorway', ..., 'Slip road', 'Slight', 8.0],\n",
              "       [2019.0, 'Scotland', 'Motorway', ..., 'Other junction', 'Slight',\n",
              "        1.0],\n",
              "       [2019.0, 'Scotland', 'Motorway', ...,\n",
              "        'Not at junction or within 20 metres', 'Slight', 12.0]],\n",
              "      dtype=object)"
            ]
          },
          "metadata": {
            "tags": []
          },
          "execution_count": 144
        }
      ]
    },
    {
      "cell_type": "code",
      "metadata": {
        "id": "CbQdaLQ4YCQh"
      },
      "source": [
        "items_df_preprocessed = pd.DataFrame(items_df_preprocessed)"
      ],
      "execution_count": 145,
      "outputs": []
    },
    {
      "cell_type": "code",
      "metadata": {
        "id": "IxKbShv7YCQi",
        "colab": {
          "base_uri": "https://localhost:8080/"
        },
        "outputId": "387d8899-d659-45f9-e1dd-2f5714be4b7c"
      },
      "source": [
        "columns = nume_cols + unorder_cate_cols_Insight + ['Accidents']\n",
        "columns"
      ],
      "execution_count": 146,
      "outputs": [
        {
          "output_type": "execute_result",
          "data": {
            "text/plain": [
              "['Accident year',\n",
              " 'Region',\n",
              " 'Speed limit',\n",
              " 'Road class',\n",
              " 'Road type',\n",
              " 'Junction type',\n",
              " 'Accident severity',\n",
              " 'Accidents']"
            ]
          },
          "metadata": {
            "tags": []
          },
          "execution_count": 146
        }
      ]
    },
    {
      "cell_type": "code",
      "metadata": {
        "id": "WCJGZe6oYCQi",
        "colab": {
          "base_uri": "https://localhost:8080/",
          "height": 204
        },
        "outputId": "84cbc8cd-36e5-4400-8aac-58f2de77e6a0"
      },
      "source": [
        "items_df_preprocessed.columns = columns\n",
        "items_df_preprocessed.head()"
      ],
      "execution_count": 147,
      "outputs": [
        {
          "output_type": "execute_result",
          "data": {
            "text/html": [
              "<div>\n",
              "<style scoped>\n",
              "    .dataframe tbody tr th:only-of-type {\n",
              "        vertical-align: middle;\n",
              "    }\n",
              "\n",
              "    .dataframe tbody tr th {\n",
              "        vertical-align: top;\n",
              "    }\n",
              "\n",
              "    .dataframe thead th {\n",
              "        text-align: right;\n",
              "    }\n",
              "</style>\n",
              "<table border=\"1\" class=\"dataframe\">\n",
              "  <thead>\n",
              "    <tr style=\"text-align: right;\">\n",
              "      <th></th>\n",
              "      <th>Accident year</th>\n",
              "      <th>Region</th>\n",
              "      <th>Speed limit</th>\n",
              "      <th>Road class</th>\n",
              "      <th>Road type</th>\n",
              "      <th>Junction type</th>\n",
              "      <th>Accident severity</th>\n",
              "      <th>Accidents</th>\n",
              "    </tr>\n",
              "  </thead>\n",
              "  <tbody>\n",
              "    <tr>\n",
              "      <th>0</th>\n",
              "      <td>2012</td>\n",
              "      <td>North East</td>\n",
              "      <td>21-30 mph</td>\n",
              "      <td>A</td>\n",
              "      <td>Roundabout</td>\n",
              "      <td>Roundabout</td>\n",
              "      <td>Fatal</td>\n",
              "      <td>1</td>\n",
              "    </tr>\n",
              "    <tr>\n",
              "      <th>1</th>\n",
              "      <td>2012</td>\n",
              "      <td>North East</td>\n",
              "      <td>21-30 mph</td>\n",
              "      <td>A</td>\n",
              "      <td>Single carriageway</td>\n",
              "      <td>Not at junction or within 20 metres</td>\n",
              "      <td>Fatal</td>\n",
              "      <td>4</td>\n",
              "    </tr>\n",
              "    <tr>\n",
              "      <th>2</th>\n",
              "      <td>2012</td>\n",
              "      <td>North East</td>\n",
              "      <td>21-30 mph</td>\n",
              "      <td>A</td>\n",
              "      <td>Single carriageway</td>\n",
              "      <td>Roundabout</td>\n",
              "      <td>Fatal</td>\n",
              "      <td>1</td>\n",
              "    </tr>\n",
              "    <tr>\n",
              "      <th>3</th>\n",
              "      <td>2012</td>\n",
              "      <td>North East</td>\n",
              "      <td>21-30 mph</td>\n",
              "      <td>A</td>\n",
              "      <td>Single carriageway</td>\n",
              "      <td>T or staggered junction</td>\n",
              "      <td>Fatal</td>\n",
              "      <td>2</td>\n",
              "    </tr>\n",
              "    <tr>\n",
              "      <th>4</th>\n",
              "      <td>2012</td>\n",
              "      <td>North East</td>\n",
              "      <td>21-30 mph</td>\n",
              "      <td>A</td>\n",
              "      <td>Single carriageway</td>\n",
              "      <td>Crossroads</td>\n",
              "      <td>Fatal</td>\n",
              "      <td>1</td>\n",
              "    </tr>\n",
              "  </tbody>\n",
              "</table>\n",
              "</div>"
            ],
            "text/plain": [
              "  Accident year      Region Speed limit Road class           Road type  \\\n",
              "0          2012  North East   21-30 mph          A          Roundabout   \n",
              "1          2012  North East   21-30 mph          A  Single carriageway   \n",
              "2          2012  North East   21-30 mph          A  Single carriageway   \n",
              "3          2012  North East   21-30 mph          A  Single carriageway   \n",
              "4          2012  North East   21-30 mph          A  Single carriageway   \n",
              "\n",
              "                         Junction type Accident severity Accidents  \n",
              "0                           Roundabout             Fatal         1  \n",
              "1  Not at junction or within 20 metres             Fatal         4  \n",
              "2                           Roundabout             Fatal         1  \n",
              "3              T or staggered junction             Fatal         2  \n",
              "4                           Crossroads             Fatal         1  "
            ]
          },
          "metadata": {
            "tags": []
          },
          "execution_count": 147
        }
      ]
    },
    {
      "cell_type": "markdown",
      "metadata": {
        "id": "rJJs8oG4Y_lh"
      },
      "source": [
        "#**Các Insight, xử lý và Trực quan hóa dữ liệu**\n",
        "##Insight\n",
        "1. <Insight 1>\n",
        "2. <Insight 2>\n",
        "3. <Insight 3>\n",
        "4. <Insight 4>\n",
        "5. <Insight 5>\n",
        "6. <Insight 6>\n",
        "7. Vùng miền ảnh hưởng đến loại tai nạn?"
      ]
    },
    {
      "cell_type": "markdown",
      "metadata": {
        "id": "iEn7E5vYMTe1"
      },
      "source": [
        "### 0. RTAS và Tổng RTAS trên từng khu vực 2012 - 2019"
      ]
    },
    {
      "cell_type": "markdown",
      "metadata": {
        "id": "dGJk5G7B3dJO"
      },
      "source": [
        "RTAs: Road Traffic Accidents"
      ]
    },
    {
      "cell_type": "code",
      "metadata": {
        "colab": {
          "base_uri": "https://localhost:8080/",
          "height": 390
        },
        "id": "ocaCudqPMV9V",
        "outputId": "8b095684-17f0-4e87-a724-7d92ee5d171f"
      },
      "source": [
        "df_sum = items_df_preprocessed.groupby('Region')['Accidents'].agg(sum)\n",
        "df_sum = df_sum.rename_axis('Region').reset_index(name='Accidents')\n",
        "df_sum.sort_values(by = ['Accidents'], ascending=True)"
      ],
      "execution_count": 148,
      "outputs": [
        {
          "output_type": "execute_result",
          "data": {
            "text/html": [
              "<div>\n",
              "<style scoped>\n",
              "    .dataframe tbody tr th:only-of-type {\n",
              "        vertical-align: middle;\n",
              "    }\n",
              "\n",
              "    .dataframe tbody tr th {\n",
              "        vertical-align: top;\n",
              "    }\n",
              "\n",
              "    .dataframe thead th {\n",
              "        text-align: right;\n",
              "    }\n",
              "</style>\n",
              "<table border=\"1\" class=\"dataframe\">\n",
              "  <thead>\n",
              "    <tr style=\"text-align: right;\">\n",
              "      <th></th>\n",
              "      <th>Region</th>\n",
              "      <th>Accidents</th>\n",
              "    </tr>\n",
              "  </thead>\n",
              "  <tbody>\n",
              "    <tr>\n",
              "      <th>3</th>\n",
              "      <td>North East</td>\n",
              "      <td>37605.0</td>\n",
              "    </tr>\n",
              "    <tr>\n",
              "      <th>8</th>\n",
              "      <td>Wales</td>\n",
              "      <td>41292.0</td>\n",
              "    </tr>\n",
              "    <tr>\n",
              "      <th>5</th>\n",
              "      <td>Scotland</td>\n",
              "      <td>63452.0</td>\n",
              "    </tr>\n",
              "    <tr>\n",
              "      <th>0</th>\n",
              "      <td>East Midlands</td>\n",
              "      <td>79609.0</td>\n",
              "    </tr>\n",
              "    <tr>\n",
              "      <th>7</th>\n",
              "      <td>South West</td>\n",
              "      <td>85785.0</td>\n",
              "    </tr>\n",
              "    <tr>\n",
              "      <th>9</th>\n",
              "      <td>West Midlands</td>\n",
              "      <td>91126.0</td>\n",
              "    </tr>\n",
              "    <tr>\n",
              "      <th>10</th>\n",
              "      <td>Yorkshire and the Humber</td>\n",
              "      <td>95474.0</td>\n",
              "    </tr>\n",
              "    <tr>\n",
              "      <th>1</th>\n",
              "      <td>East of England</td>\n",
              "      <td>102616.0</td>\n",
              "    </tr>\n",
              "    <tr>\n",
              "      <th>4</th>\n",
              "      <td>North West</td>\n",
              "      <td>107450.0</td>\n",
              "    </tr>\n",
              "    <tr>\n",
              "      <th>6</th>\n",
              "      <td>South East</td>\n",
              "      <td>171294.0</td>\n",
              "    </tr>\n",
              "    <tr>\n",
              "      <th>2</th>\n",
              "      <td>London</td>\n",
              "      <td>201600.0</td>\n",
              "    </tr>\n",
              "  </tbody>\n",
              "</table>\n",
              "</div>"
            ],
            "text/plain": [
              "                      Region  Accidents\n",
              "3                 North East    37605.0\n",
              "8                      Wales    41292.0\n",
              "5                   Scotland    63452.0\n",
              "0              East Midlands    79609.0\n",
              "7                 South West    85785.0\n",
              "9              West Midlands    91126.0\n",
              "10  Yorkshire and the Humber    95474.0\n",
              "1            East of England   102616.0\n",
              "4                 North West   107450.0\n",
              "6                 South East   171294.0\n",
              "2                     London   201600.0"
            ]
          },
          "metadata": {
            "tags": []
          },
          "execution_count": 148
        }
      ]
    },
    {
      "cell_type": "code",
      "metadata": {
        "colab": {
          "base_uri": "https://localhost:8080/",
          "height": 373
        },
        "id": "KwWfglWHcVhD",
        "outputId": "6d26466c-65de-492b-b3aa-358dafe1c4e2"
      },
      "source": [
        "df_sum = items_df_preprocessed.groupby('Region')['Accidents'].agg(sum)\n",
        "df_sum = df_sum.rename_axis('Region').reset_index(name='Accidents')\n",
        "df_sum = df_sum.sort_values(by = ['Accidents'], ascending=True)\n",
        "plt.figure(figsize=(24,6))\n",
        "sns.set(font_scale = 1.0)\n",
        "g = sns.barplot(data = df_sum, x = 'Region', y = 'Accidents', palette=\"ch:.25\")\n",
        "g.set_title(\"Tổng RTAs trên từng Khu vực 2012 - 2019\")\n",
        "sns.set(font_scale = 1.5)\n",
        "g.set_yticklabels(g.get_yticks(), size = 15)\n",
        "g.set_xlabel('Khu vực', fontsize = '15')\n",
        "g.set_ylabel('Số tai nạn', fontsize = '15')"
      ],
      "execution_count": 149,
      "outputs": [
        {
          "output_type": "execute_result",
          "data": {
            "text/plain": [
              "Text(0, 0.5, 'Số tai nạn')"
            ]
          },
          "metadata": {
            "tags": []
          },
          "execution_count": 149
        },
        {
          "output_type": "display_data",
          "data": {
            "image/png": "[encoded data removed]",
            "text/plain": [
              "<Figure size 1728x432 with 1 Axes>"
            ]
          },
          "metadata": {
            "tags": []
          }
        }
      ]
    },
    {
      "cell_type": "markdown",
      "metadata": {
        "id": "62xIiP92am4u"
      },
      "source": [
        "**Nhận xét:**\n",
        "\n",
        "...\n",
        "\n",
        "Ta vẽ biểu đồ RTAs cho các khu vực theo năm để biết thêm sự thay đổi:"
      ]
    },
    {
      "cell_type": "code",
      "metadata": {
        "colab": {
          "base_uri": "https://localhost:8080/",
          "height": 297
        },
        "id": "YjszzD6cSsM_",
        "outputId": "3dff1d04-98af-4694-a777-6b1711ac1aa9"
      },
      "source": [
        "RTAs_region_year_df = items_df_preprocessed.groupby(['Region','Accident year'])['Accidents'].agg(sum)\n",
        "RTAs_region_year_df = RTAs_region_year_df.rename_axis(['Region', 'Accident year']).reset_index(name='Accidents')\n",
        "RTAs_region_year_df[RTAs_region_year_df['Region'] == f'North West']"
      ],
      "execution_count": 150,
      "outputs": [
        {
          "output_type": "execute_result",
          "data": {
            "text/html": [
              "<div>\n",
              "<style scoped>\n",
              "    .dataframe tbody tr th:only-of-type {\n",
              "        vertical-align: middle;\n",
              "    }\n",
              "\n",
              "    .dataframe tbody tr th {\n",
              "        vertical-align: top;\n",
              "    }\n",
              "\n",
              "    .dataframe thead th {\n",
              "        text-align: right;\n",
              "    }\n",
              "</style>\n",
              "<table border=\"1\" class=\"dataframe\">\n",
              "  <thead>\n",
              "    <tr style=\"text-align: right;\">\n",
              "      <th></th>\n",
              "      <th>Region</th>\n",
              "      <th>Accident year</th>\n",
              "      <th>Accidents</th>\n",
              "    </tr>\n",
              "  </thead>\n",
              "  <tbody>\n",
              "    <tr>\n",
              "      <th>32</th>\n",
              "      <td>North West</td>\n",
              "      <td>2012.0</td>\n",
              "      <td>15436.0</td>\n",
              "    </tr>\n",
              "    <tr>\n",
              "      <th>33</th>\n",
              "      <td>North West</td>\n",
              "      <td>2013.0</td>\n",
              "      <td>14058.0</td>\n",
              "    </tr>\n",
              "    <tr>\n",
              "      <th>34</th>\n",
              "      <td>North West</td>\n",
              "      <td>2014.0</td>\n",
              "      <td>14784.0</td>\n",
              "    </tr>\n",
              "    <tr>\n",
              "      <th>35</th>\n",
              "      <td>North West</td>\n",
              "      <td>2015.0</td>\n",
              "      <td>13105.0</td>\n",
              "    </tr>\n",
              "    <tr>\n",
              "      <th>36</th>\n",
              "      <td>North West</td>\n",
              "      <td>2016.0</td>\n",
              "      <td>12727.0</td>\n",
              "    </tr>\n",
              "    <tr>\n",
              "      <th>37</th>\n",
              "      <td>North West</td>\n",
              "      <td>2017.0</td>\n",
              "      <td>13166.0</td>\n",
              "    </tr>\n",
              "    <tr>\n",
              "      <th>38</th>\n",
              "      <td>North West</td>\n",
              "      <td>2018.0</td>\n",
              "      <td>12701.0</td>\n",
              "    </tr>\n",
              "    <tr>\n",
              "      <th>39</th>\n",
              "      <td>North West</td>\n",
              "      <td>2019.0</td>\n",
              "      <td>11473.0</td>\n",
              "    </tr>\n",
              "  </tbody>\n",
              "</table>\n",
              "</div>"
            ],
            "text/plain": [
              "        Region  Accident year  Accidents\n",
              "32  North West         2012.0    15436.0\n",
              "33  North West         2013.0    14058.0\n",
              "34  North West         2014.0    14784.0\n",
              "35  North West         2015.0    13105.0\n",
              "36  North West         2016.0    12727.0\n",
              "37  North West         2017.0    13166.0\n",
              "38  North West         2018.0    12701.0\n",
              "39  North West         2019.0    11473.0"
            ]
          },
          "metadata": {
            "tags": []
          },
          "execution_count": 150
        }
      ]
    },
    {
      "cell_type": "code",
      "metadata": {
        "colab": {
          "base_uri": "https://localhost:8080/",
          "height": 551
        },
        "id": "wVrKFAgvfC6Y",
        "outputId": "c913db27-5593-4f59-8a49-97cf0ade7d25"
      },
      "source": [
        "\n",
        "# sns.catplot(data = RTAs_region_year_df, x = 'Accident year', y = 'Accidents', col = 'Region',col_wrap=4)\n",
        "\n",
        "fig, axs = plt.subplots(nrows=1)\n",
        "fig.set_size_inches(16, 10.5)\n",
        "for region in RTAs_region_year_df['Region'].unique():\n",
        "  sns.scatterplot(data = RTAs_region_year_df[RTAs_region_year_df['Region'] == f'{region}'], x = 'Accident year', y = 'Accidents', label = f'{region}', ax = axs)\n",
        "\n",
        "axs.set_title(\"RTAs trên từng Khu vực 2012 - 2019: South East, North West có sự giảm RTAs mạnh\")\n",
        "\n",
        "plt.legend(bbox_to_anchor=(1.05, 1), loc='upper left', ncol=2)\n",
        "plt.show()"
      ],
      "execution_count": 151,
      "outputs": [
        {
          "output_type": "display_data",
          "data": {
            "image/png": "[encoded data removed]",
            "text/plain": [
              "<Figure size 1152x756 with 1 Axes>"
            ]
          },
          "metadata": {
            "tags": []
          }
        }
      ]
    },
    {
      "cell_type": "markdown",
      "metadata": {
        "id": "iaMw-ZTbbJNQ"
      },
      "source": [
        "**Nhận xét:**\n",
        "\n",
        "- Biên độ dao động nhỏ"
      ]
    },
    {
      "cell_type": "markdown",
      "metadata": {
        "id": "D5n_ZfQGfHtR"
      },
      "source": [
        "### **1. <Insight 1>**"
      ]
    },
    {
      "cell_type": "markdown",
      "metadata": {
        "id": "CZruquCKfI6q"
      },
      "source": [
        "### **2. <Insight 2>**"
      ]
    },
    {
      "cell_type": "code",
      "metadata": {
        "id": "GlnVTk-1h8_l"
      },
      "source": [
        ""
      ],
      "execution_count": 151,
      "outputs": []
    },
    {
      "cell_type": "markdown",
      "metadata": {
        "id": "nafXLEJ1fNtB"
      },
      "source": [
        "### **3. <Insight 3>**"
      ]
    },
    {
      "cell_type": "code",
      "metadata": {
        "id": "K545wnXvh9yU"
      },
      "source": [
        ""
      ],
      "execution_count": 151,
      "outputs": []
    },
    {
      "cell_type": "markdown",
      "metadata": {
        "id": "V7NnVoE0fQRR"
      },
      "source": [
        "### **4. <Insight 4>**"
      ]
    },
    {
      "cell_type": "code",
      "metadata": {
        "id": "KdaOFMOqh-U6"
      },
      "source": [
        ""
      ],
      "execution_count": 151,
      "outputs": []
    },
    {
      "cell_type": "markdown",
      "metadata": {
        "id": "o21EsTw0fSw_"
      },
      "source": [
        "### **5. <Insight 5>**"
      ]
    },
    {
      "cell_type": "code",
      "metadata": {
        "id": "UUdG3FjKh_Oi"
      },
      "source": [
        ""
      ],
      "execution_count": 151,
      "outputs": []
    },
    {
      "cell_type": "markdown",
      "metadata": {
        "id": "oO7GzHVzfUrg"
      },
      "source": [
        "### **6. <Insight 6>**"
      ]
    },
    {
      "cell_type": "code",
      "metadata": {
        "id": "RSQKZR-xh_04"
      },
      "source": [
        ""
      ],
      "execution_count": 151,
      "outputs": []
    },
    {
      "cell_type": "markdown",
      "metadata": {
        "id": "wiYRbBrhLPtx"
      },
      "source": [
        "### **7.  Vùng miền và loại tai nạn có độc lập?**"
      ]
    },
    {
      "cell_type": "markdown",
      "metadata": {
        "id": "904eROn0DMPH"
      },
      "source": [
        "${H_0}$: Vùng miền và loại tai nạn độc lập nhau\n",
        "\n",
        "${H_A}$: Vùng miền và loại tai nạn phụ thuộc nhau\n",
        "\n",
        "</br>\n",
        "\n",
        "Đặt:\n",
        "\n",
        "${A =}$  Region, ${A_1 =}$ `East Midlands`, ${A_2}$ = `East of England`, ${A_3 =}$ `London`, ${A_4 =}$ `North East`, ${A_5 =}$ `North West`, ${A_6 =}$  `Scotland`, ${A_7 =}$  `South East`, ${A_8 =}$ `South West`, ${A_9 =}$ `Wales`, ${A_{10} =}$ `West Midlands`, ${A_{11}}$ =  `Yorkshire and the Humber`\n",
        "\n",
        "${B =}$ Accident severity, ${B_1 =}$ Fatal, ${B_2 =}$ Serious, ${B_3 =}$ Slight\n",
        "\n",
        "</br>\n",
        "\n",
        "Ta có:\n",
        "\n",
        "${H_0}$: ${P(A_i\\cap B_j) = P(A_i)P(B_j)}$\n",
        "\n",
        "${H_A}$: ${P(A_i\\cap B_j) \\neq P(A_i)P(B_j)}$\n",
        "\n",
        "</br>\n",
        "\n",
        "Phần dưới sẽ trình bày về mặt toán học lẫn sử dụng thư viện scipy.stats để tính toán\n",
        "\n",
        "</br>"
      ]
    },
    {
      "cell_type": "code",
      "metadata": {
        "id": "9EELyHsZF6-K"
      },
      "source": [
        "from scipy.stats import chi2_contingency\n",
        "from scipy.stats import chi2"
      ],
      "execution_count": 173,
      "outputs": []
    },
    {
      "cell_type": "markdown",
      "metadata": {
        "id": "me5Cxg3NROMp"
      },
      "source": [
        "\n",
        "</br>\n",
        "\n",
        "Trước tiên, ta lập bảng contingency. Lưu ý rằng không thể dùng hàm `crosstab` của pandas, do mỗi một dòng có thể là thông tin của nhiều vụ tai nạn.\n",
        "\n",
        "</br>"
      ]
    },
    {
      "cell_type": "code",
      "metadata": {
        "colab": {
          "base_uri": "https://localhost:8080/",
          "height": 424
        },
        "id": "KAK3HpEmeWAL",
        "outputId": "895ba18b-d540-49c7-a1c6-b82d174e8dab"
      },
      "source": [
        "Region_Severity_df = pd.DataFrame({'Region' : [np.nan],'Fatal' : [np.nan],'Serious' : [np.nan],'Slight' : [np.nan], 'Pr(Ai)': [np.nan]})\n",
        "\n",
        "for region in items_df_preprocessed['Region'].unique():\n",
        "  x = items_df_preprocessed[items_df_preprocessed['Region'] == f'{region}'].groupby('Accident severity')['Accidents'].agg(sum).reset_index(name='Value count')\n",
        "  y = np.array(x['Value count'])\n",
        "  # y = np.insert(y, 0, 3, axis=0)\n",
        "  # source: https://stackoverflow.com/a/58293212\n",
        "  data_to_append = {}\n",
        "  for i in range(len(Region_Severity_df.columns)):\n",
        "    if(i>=1 and i !=4):\n",
        "      data_to_append[Region_Severity_df.columns[i]] = y[i-1]\n",
        "    elif (i == 4):\n",
        "      data_to_append[Region_Severity_df.columns[i]] = sum(y)\n",
        "  Region_Severity_df = Region_Severity_df.append(data_to_append, ignore_index = True)\n",
        "\n",
        "Region_Severity_df = Region_Severity_df.drop(0,0)\n",
        "Region_Severity_df['Region'] = RTAs_region_year_df['Region'].unique()\n",
        "print(sum(Region_Severity_df['Pr(Ai)']))\n",
        "print(sum(items_df_preprocessed['Accidents']))\n",
        "sum_accidents = sum(Region_Severity_df['Pr(Ai)'])\n",
        "Region_Severity_df"
      ],
      "execution_count": 169,
      "outputs": [
        {
          "output_type": "stream",
          "text": [
            "1077303.0\n",
            "1077303.0\n"
          ],
          "name": "stdout"
        },
        {
          "output_type": "execute_result",
          "data": {
            "text/html": [
              "<div>\n",
              "<style scoped>\n",
              "    .dataframe tbody tr th:only-of-type {\n",
              "        vertical-align: middle;\n",
              "    }\n",
              "\n",
              "    .dataframe tbody tr th {\n",
              "        vertical-align: top;\n",
              "    }\n",
              "\n",
              "    .dataframe thead th {\n",
              "        text-align: right;\n",
              "    }\n",
              "</style>\n",
              "<table border=\"1\" class=\"dataframe\">\n",
              "  <thead>\n",
              "    <tr style=\"text-align: right;\">\n",
              "      <th></th>\n",
              "      <th>Region</th>\n",
              "      <th>Fatal</th>\n",
              "      <th>Serious</th>\n",
              "      <th>Slight</th>\n",
              "      <th>Pr(Ai)</th>\n",
              "    </tr>\n",
              "  </thead>\n",
              "  <tbody>\n",
              "    <tr>\n",
              "      <th>1</th>\n",
              "      <td>East Midlands</td>\n",
              "      <td>487.0</td>\n",
              "      <td>6167.0</td>\n",
              "      <td>30951.0</td>\n",
              "      <td>37605.0</td>\n",
              "    </tr>\n",
              "    <tr>\n",
              "      <th>2</th>\n",
              "      <td>East of England</td>\n",
              "      <td>1363.0</td>\n",
              "      <td>19264.0</td>\n",
              "      <td>86823.0</td>\n",
              "      <td>107450.0</td>\n",
              "    </tr>\n",
              "    <tr>\n",
              "      <th>3</th>\n",
              "      <td>London</td>\n",
              "      <td>1174.0</td>\n",
              "      <td>16892.0</td>\n",
              "      <td>77408.0</td>\n",
              "      <td>95474.0</td>\n",
              "    </tr>\n",
              "    <tr>\n",
              "      <th>4</th>\n",
              "      <td>North East</td>\n",
              "      <td>1331.0</td>\n",
              "      <td>12858.0</td>\n",
              "      <td>65420.0</td>\n",
              "      <td>79609.0</td>\n",
              "    </tr>\n",
              "    <tr>\n",
              "      <th>5</th>\n",
              "      <td>North West</td>\n",
              "      <td>1242.0</td>\n",
              "      <td>13743.0</td>\n",
              "      <td>76141.0</td>\n",
              "      <td>91126.0</td>\n",
              "    </tr>\n",
              "    <tr>\n",
              "      <th>6</th>\n",
              "      <td>Scotland</td>\n",
              "      <td>1406.0</td>\n",
              "      <td>17678.0</td>\n",
              "      <td>83532.0</td>\n",
              "      <td>102616.0</td>\n",
              "    </tr>\n",
              "    <tr>\n",
              "      <th>7</th>\n",
              "      <td>South East</td>\n",
              "      <td>1842.0</td>\n",
              "      <td>30183.0</td>\n",
              "      <td>139269.0</td>\n",
              "      <td>171294.0</td>\n",
              "    </tr>\n",
              "    <tr>\n",
              "      <th>8</th>\n",
              "      <td>South West</td>\n",
              "      <td>995.0</td>\n",
              "      <td>22180.0</td>\n",
              "      <td>178425.0</td>\n",
              "      <td>201600.0</td>\n",
              "    </tr>\n",
              "    <tr>\n",
              "      <th>9</th>\n",
              "      <td>Wales</td>\n",
              "      <td>1351.0</td>\n",
              "      <td>13965.0</td>\n",
              "      <td>70469.0</td>\n",
              "      <td>85785.0</td>\n",
              "    </tr>\n",
              "    <tr>\n",
              "      <th>10</th>\n",
              "      <td>West Midlands</td>\n",
              "      <td>760.0</td>\n",
              "      <td>7226.0</td>\n",
              "      <td>33306.0</td>\n",
              "      <td>41292.0</td>\n",
              "    </tr>\n",
              "    <tr>\n",
              "      <th>11</th>\n",
              "      <td>Yorkshire and the Humber</td>\n",
              "      <td>1268.0</td>\n",
              "      <td>11924.0</td>\n",
              "      <td>50260.0</td>\n",
              "      <td>63452.0</td>\n",
              "    </tr>\n",
              "  </tbody>\n",
              "</table>\n",
              "</div>"
            ],
            "text/plain": [
              "                      Region   Fatal  Serious    Slight    Pr(Ai)\n",
              "1              East Midlands   487.0   6167.0   30951.0   37605.0\n",
              "2            East of England  1363.0  19264.0   86823.0  107450.0\n",
              "3                     London  1174.0  16892.0   77408.0   95474.0\n",
              "4                 North East  1331.0  12858.0   65420.0   79609.0\n",
              "5                 North West  1242.0  13743.0   76141.0   91126.0\n",
              "6                   Scotland  1406.0  17678.0   83532.0  102616.0\n",
              "7                 South East  1842.0  30183.0  139269.0  171294.0\n",
              "8                 South West   995.0  22180.0  178425.0  201600.0\n",
              "9                      Wales  1351.0  13965.0   70469.0   85785.0\n",
              "10             West Midlands   760.0   7226.0   33306.0   41292.0\n",
              "11  Yorkshire and the Humber  1268.0  11924.0   50260.0   63452.0"
            ]
          },
          "metadata": {
            "tags": []
          },
          "execution_count": 169
        }
      ]
    },
    {
      "cell_type": "markdown",
      "metadata": {
        "id": "0p9j2JugRvRo"
      },
      "source": [
        "</br>\n",
        "\n",
        "Cột Pr(Ai) hiện đang là tổng dòng, ta chia cho tổng bảng để được số chính xác\n",
        "\n",
        "</br>"
      ]
    },
    {
      "cell_type": "code",
      "metadata": {
        "colab": {
          "base_uri": "https://localhost:8080/",
          "height": 438
        },
        "id": "iR79W2gQmS4r",
        "outputId": "5369bdb3-47de-4034-907c-be73f8e7fd9e"
      },
      "source": [
        "for pr in Region_Severity_df['Pr(Ai)']:\n",
        "  Region_Severity_df['Pr(Ai)'] = Region_Severity_df['Pr(Ai)'].replace(pr, np.round(pr / sum_accidents, 6))\n",
        "print(sum(Region_Severity_df['Pr(Ai)']))\n",
        "Region_Severity_df = Region_Severity_df.set_index('Region')\n",
        "Region_Severity_df"
      ],
      "execution_count": 170,
      "outputs": [
        {
          "output_type": "stream",
          "text": [
            "1.0000010000000001\n"
          ],
          "name": "stdout"
        },
        {
          "output_type": "execute_result",
          "data": {
            "text/html": [
              "<div>\n",
              "<style scoped>\n",
              "    .dataframe tbody tr th:only-of-type {\n",
              "        vertical-align: middle;\n",
              "    }\n",
              "\n",
              "    .dataframe tbody tr th {\n",
              "        vertical-align: top;\n",
              "    }\n",
              "\n",
              "    .dataframe thead th {\n",
              "        text-align: right;\n",
              "    }\n",
              "</style>\n",
              "<table border=\"1\" class=\"dataframe\">\n",
              "  <thead>\n",
              "    <tr style=\"text-align: right;\">\n",
              "      <th></th>\n",
              "      <th>Fatal</th>\n",
              "      <th>Serious</th>\n",
              "      <th>Slight</th>\n",
              "      <th>Pr(Ai)</th>\n",
              "    </tr>\n",
              "    <tr>\n",
              "      <th>Region</th>\n",
              "      <th></th>\n",
              "      <th></th>\n",
              "      <th></th>\n",
              "      <th></th>\n",
              "    </tr>\n",
              "  </thead>\n",
              "  <tbody>\n",
              "    <tr>\n",
              "      <th>East Midlands</th>\n",
              "      <td>487.0</td>\n",
              "      <td>6167.0</td>\n",
              "      <td>30951.0</td>\n",
              "      <td>0.034907</td>\n",
              "    </tr>\n",
              "    <tr>\n",
              "      <th>East of England</th>\n",
              "      <td>1363.0</td>\n",
              "      <td>19264.0</td>\n",
              "      <td>86823.0</td>\n",
              "      <td>0.099740</td>\n",
              "    </tr>\n",
              "    <tr>\n",
              "      <th>London</th>\n",
              "      <td>1174.0</td>\n",
              "      <td>16892.0</td>\n",
              "      <td>77408.0</td>\n",
              "      <td>0.088623</td>\n",
              "    </tr>\n",
              "    <tr>\n",
              "      <th>North East</th>\n",
              "      <td>1331.0</td>\n",
              "      <td>12858.0</td>\n",
              "      <td>65420.0</td>\n",
              "      <td>0.073897</td>\n",
              "    </tr>\n",
              "    <tr>\n",
              "      <th>North West</th>\n",
              "      <td>1242.0</td>\n",
              "      <td>13743.0</td>\n",
              "      <td>76141.0</td>\n",
              "      <td>0.084587</td>\n",
              "    </tr>\n",
              "    <tr>\n",
              "      <th>Scotland</th>\n",
              "      <td>1406.0</td>\n",
              "      <td>17678.0</td>\n",
              "      <td>83532.0</td>\n",
              "      <td>0.095253</td>\n",
              "    </tr>\n",
              "    <tr>\n",
              "      <th>South East</th>\n",
              "      <td>1842.0</td>\n",
              "      <td>30183.0</td>\n",
              "      <td>139269.0</td>\n",
              "      <td>0.159003</td>\n",
              "    </tr>\n",
              "    <tr>\n",
              "      <th>South West</th>\n",
              "      <td>995.0</td>\n",
              "      <td>22180.0</td>\n",
              "      <td>178425.0</td>\n",
              "      <td>0.187134</td>\n",
              "    </tr>\n",
              "    <tr>\n",
              "      <th>Wales</th>\n",
              "      <td>1351.0</td>\n",
              "      <td>13965.0</td>\n",
              "      <td>70469.0</td>\n",
              "      <td>0.079629</td>\n",
              "    </tr>\n",
              "    <tr>\n",
              "      <th>West Midlands</th>\n",
              "      <td>760.0</td>\n",
              "      <td>7226.0</td>\n",
              "      <td>33306.0</td>\n",
              "      <td>0.038329</td>\n",
              "    </tr>\n",
              "    <tr>\n",
              "      <th>Yorkshire and the Humber</th>\n",
              "      <td>1268.0</td>\n",
              "      <td>11924.0</td>\n",
              "      <td>50260.0</td>\n",
              "      <td>0.058899</td>\n",
              "    </tr>\n",
              "  </tbody>\n",
              "</table>\n",
              "</div>"
            ],
            "text/plain": [
              "                           Fatal  Serious    Slight    Pr(Ai)\n",
              "Region                                                       \n",
              "East Midlands              487.0   6167.0   30951.0  0.034907\n",
              "East of England           1363.0  19264.0   86823.0  0.099740\n",
              "London                    1174.0  16892.0   77408.0  0.088623\n",
              "North East                1331.0  12858.0   65420.0  0.073897\n",
              "North West                1242.0  13743.0   76141.0  0.084587\n",
              "Scotland                  1406.0  17678.0   83532.0  0.095253\n",
              "South East                1842.0  30183.0  139269.0  0.159003\n",
              "South West                 995.0  22180.0  178425.0  0.187134\n",
              "Wales                     1351.0  13965.0   70469.0  0.079629\n",
              "West Midlands              760.0   7226.0   33306.0  0.038329\n",
              "Yorkshire and the Humber  1268.0  11924.0   50260.0  0.058899"
            ]
          },
          "metadata": {
            "tags": []
          },
          "execution_count": 170
        }
      ]
    },
    {
      "cell_type": "code",
      "metadata": {
        "colab": {
          "base_uri": "https://localhost:8080/"
        },
        "id": "72cYA7wVyRcV",
        "outputId": "41f18487-5bca-4920-f120-7ed3371a669e"
      },
      "source": [
        "\n",
        "Pr_Slight = sum(Region_Severity_df['Slight'])/sum_accidents\n",
        "Pr_Serious = sum(Region_Severity_df['Serious'])/sum_accidents\n",
        "Pr_Fatal = sum(Region_Severity_df['Fatal'])/sum_accidents\n",
        "PrBj = [Pr_Fatal,Pr_Serious,Pr_Slight]\n",
        "print(f'Pr_Fatal = {Pr_Fatal}\\nPr_Serious = {Pr_Serious}\\nPr_Slight = {Pr_Slight}')\n",
        "print(Pr_Slight + Pr_Serious + Pr_Fatal)"
      ],
      "execution_count": 183,
      "outputs": [
        {
          "output_type": "stream",
          "text": [
            "Pr_Fatal = 0.012270456872393375\n",
            "Pr_Serious = 0.15973222018317967\n",
            "Pr_Slight = 0.827997322944427\n",
            "1.0\n"
          ],
          "name": "stdout"
        }
      ]
    },
    {
      "cell_type": "markdown",
      "metadata": {
        "id": "UeawkcCtyrF8"
      },
      "source": [
        "Ta đã tính được ${Pr(A_i)}$ như bảng trên và \n",
        "\n",
        "${Pr(B_1)}$ = 0.012270456872393375\n",
        "\n",
        "${Pr(B_2)}$ = 0.15973222018317967\n",
        "\n",
        "${Pr(B_3)}$ = 0.827997322944427\n",
        "\n",
        "---\n",
        "\n",
        "Đến đây ta có thể tính:\n",
        "\n",
        "Giá trị mong đợi ${E}$:\n",
        "\n",
        "\\begin{equation}\n",
        "\\text{Do kỳ vọng A và B độc lập:}\\\\\n",
        "E_{ij} = Pr(A_i) \\times Pr(B_j) \\times N [2]\\\\\n",
        "\\text{hay}\\\\\n",
        "E_{ij} = \\frac{\\text{(Tổng dòng} \\times \\text{Tổng cột)}}{\\text{Tổng bảng}} [3]   \\\\ \n",
        "\\text{với bảng là bảng contingency}\n",
        "\\end{equation}\n",
        "\n",
        "Giá trị ${\\chi^2}$:\n",
        "\n",
        "\\begin{equation}\n",
        "\\chi^2=\\Sigma\\frac{(O-E)^2}{E} [2][3]\\\\\n",
        "\\text{với O là giá trị thực sự và E là giá trị mong đợi}\n",
        "\\end{equation}\n",
        "\n",
        "Giá trị dof: Degree of freedom\n",
        "\n",
        "dof cho ${\\chi^2}$ độc lập:\n",
        "\n",
        "\\begin{equation}\n",
        "dof = v = rc - 1 - (r-1) - (c-1) = (r-1)(c-1) [2]\\\\ = 20\n",
        "\\end{equation}\n",
        "\n",
        "Chọn mức ý nghĩa:\n",
        "\n",
        "\\begin{equation}\n",
        "\\alpha = 0.05\n",
        "\\end{equation}\n",
        "\n",
        "Tra bảng Chi Squared với ${\\alpha = 0.05}$ ta được critical value ${ = 31.41043}$\t\n",
        "\n",
        "Chấp nhận Ho nếu \n",
        "\\begin{equation}\n",
        "\\chi^2_v <= 31.41043\n",
        "\\end{equation}"
      ]
    },
    {
      "cell_type": "markdown",
      "metadata": {
        "id": "3H4sG7dRSDX4"
      },
      "source": [
        "</br>\n",
        "\n",
        "Ta có thể sử dụng `chi2_contingency` của thư viện spicy để tính toán:\n"
      ]
    },
    {
      "cell_type": "code",
      "metadata": {
        "colab": {
          "base_uri": "https://localhost:8080/"
        },
        "id": "As7NQnhpIni7",
        "outputId": "0b09a737-5270-43a7-8dee-e8e91c16ae5d"
      },
      "source": [
        "# [3]Source:  https://towardsdatascience.com/gentle-introduction-to-chi-square-test-for-independence-7182a7414a95\n",
        "chi, pval, dof, expected = chi2_contingency(Region_Severity_df.drop(['Pr(Ai)'],1))\n",
        "print('p-value là: ', pval)\n",
        "significance = 0.05\n",
        "p = 1 - significance\n",
        "critical_value = chi2.ppf(p, dof)\n",
        "print('chi = %.6f, critical value = %.6f\\n' % (chi, critical_value))\n",
        "if chi > critical_value:\n",
        "    print(\"\"\"Với mức ý nghĩa %.2f, ta bác bỏ Ho và chấp nhận HA. \n",
        "Kết luận: Vùng miền và loại tai nạn không độc lập.\"\"\" % (significance))\n",
        "else:\n",
        "    print(\"\"\"Với mức ý nghĩa %.2f, ta bác bỏ Ho và chấp nhận Ho. \n",
        "Kết luận: Vùng miền và loại tai nạn độc lập.\"\"\" % (significance))"
      ],
      "execution_count": 181,
      "outputs": [
        {
          "output_type": "stream",
          "text": [
            "p-value là:  0.0\n",
            "chi = 7060.266799, critical value = 31.410433\n",
            "\n",
            "Với mức ý nghĩa 0.05, ta bác bỏ Ho và chấp nhận HA. \n",
            "Kết luận: Vùng miền và loại tai nạn không độc lập.\n"
          ],
          "name": "stdout"
        }
      ]
    },
    {
      "cell_type": "markdown",
      "metadata": {
        "id": "YMjjJEMXcPLK"
      },
      "source": [
        "Ta kiểm tra, không dùng thư viện:\n",
        "\n",
        "</br>"
      ]
    },
    {
      "cell_type": "code",
      "metadata": {
        "colab": {
          "base_uri": "https://localhost:8080/",
          "height": 221
        },
        "id": "s6h_Y3q_1O64",
        "outputId": "0f8e48ea-2920-44f9-9657-a86804149bd3"
      },
      "source": [
        "append_data = []\n",
        "for region in items_df_preprocessed['Region'].unique():\n",
        "  append_data.append(items_df_preprocessed[items_df_preprocessed['Region'] == f'{region}'].groupby('Accident severity')['Accidents'].agg(sum).rename_axis('Accident severity').reset_index(name='Accidents'))\n",
        "\n",
        "Region_Severity_df_1 = pd.concat(append_data)\n",
        "Region_Severity_df_1.reset_index(inplace = True)\n",
        "Region_Severity_df_1.drop(['index'], 1)\n",
        "Region_Severity_df_1\n",
        "\n",
        "Region_Severity_df_1['Region'] = np.nan\n",
        "i = 0\n",
        "pd.options.mode.chained_assignment = None  # default='warn'\n",
        "\n",
        "for region in RTAs_region_year_df['Region'].unique():\n",
        "  Region_Severity_df_1['Region'][i] = f'{region}'\n",
        "  Region_Severity_df_1['Region'][i+1] = f'{region}'\n",
        "  Region_Severity_df_1['Region'][i+2] = f'{region}'\n",
        "  i = i + 3\n",
        "\n",
        "Region_Severity_df_1 = Region_Severity_df_1.reindex(columns = ['Region', 'Accident severity', 'Accidents'])\n",
        "# Region_Severity_df = items_df_preprocessed.groupby('Region')['Accident severity'].agg(sum)\n",
        "\n",
        "expectedValue = []\n",
        "for Ai in Region_Severity_df['Pr(Ai)']:\n",
        "  for Bj in PrBj:\n",
        "      expectedValue.append(Ai*Bj*sum_accidents)\n",
        "chiij = []\n",
        "oij = np.array(Region_Severity_df_1['Accidents'])\n",
        "for ij in range(0, len(expectedValue)):\n",
        "  chiij.append((oij[ij] - expectedValue[ij])**2/expectedValue[ij])\n",
        "Region_Severity_df_1['Expected value'] = expectedValue\n",
        "Region_Severity_df_1['(O_ij - E_ij)^2/E_ij'] = chiij\n",
        "chi_square = sum(Region_Severity_df_1['(O_ij - E_ij)^2/E_ij'])\n",
        "print('chi_square = ', chi_square)\n",
        "Region_Severity_df_1.head()"
      ],
      "execution_count": 193,
      "outputs": [
        {
          "output_type": "stream",
          "text": [
            "chi_square =  7060.264034867317\n"
          ],
          "name": "stdout"
        },
        {
          "output_type": "execute_result",
          "data": {
            "text/html": [
              "<div>\n",
              "<style scoped>\n",
              "    .dataframe tbody tr th:only-of-type {\n",
              "        vertical-align: middle;\n",
              "    }\n",
              "\n",
              "    .dataframe tbody tr th {\n",
              "        vertical-align: top;\n",
              "    }\n",
              "\n",
              "    .dataframe thead th {\n",
              "        text-align: right;\n",
              "    }\n",
              "</style>\n",
              "<table border=\"1\" class=\"dataframe\">\n",
              "  <thead>\n",
              "    <tr style=\"text-align: right;\">\n",
              "      <th></th>\n",
              "      <th>Region</th>\n",
              "      <th>Accident severity</th>\n",
              "      <th>Accidents</th>\n",
              "      <th>Expected value</th>\n",
              "      <th>(O_ij - E_ij)^2/E_ij</th>\n",
              "    </tr>\n",
              "  </thead>\n",
              "  <tbody>\n",
              "    <tr>\n",
              "      <th>0</th>\n",
              "      <td>East Midlands</td>\n",
              "      <td>Fatal</td>\n",
              "      <td>487.0</td>\n",
              "      <td>461.435633</td>\n",
              "      <td>1.416312</td>\n",
              "    </tr>\n",
              "    <tr>\n",
              "      <th>1</th>\n",
              "      <td>East Midlands</td>\n",
              "      <td>Serious</td>\n",
              "      <td>6167.0</td>\n",
              "      <td>6006.796560</td>\n",
              "      <td>4.272684</td>\n",
              "    </tr>\n",
              "    <tr>\n",
              "      <th>2</th>\n",
              "      <td>East Midlands</td>\n",
              "      <td>Slight</td>\n",
              "      <td>30951.0</td>\n",
              "      <td>31137.183628</td>\n",
              "      <td>1.113278</td>\n",
              "    </tr>\n",
              "    <tr>\n",
              "      <th>3</th>\n",
              "      <td>East of England</td>\n",
              "      <td>Fatal</td>\n",
              "      <td>1363.0</td>\n",
              "      <td>1318.463060</td>\n",
              "      <td>1.504433</td>\n",
              "    </tr>\n",
              "    <tr>\n",
              "      <th>4</th>\n",
              "      <td>East of England</td>\n",
              "      <td>Serious</td>\n",
              "      <td>19264.0</td>\n",
              "      <td>17163.259200</td>\n",
              "      <td>257.125518</td>\n",
              "    </tr>\n",
              "  </tbody>\n",
              "</table>\n",
              "</div>"
            ],
            "text/plain": [
              "            Region Accident severity  Accidents  Expected value  \\\n",
              "0    East Midlands             Fatal      487.0      461.435633   \n",
              "1    East Midlands           Serious     6167.0     6006.796560   \n",
              "2    East Midlands            Slight    30951.0    31137.183628   \n",
              "3  East of England             Fatal     1363.0     1318.463060   \n",
              "4  East of England           Serious    19264.0    17163.259200   \n",
              "\n",
              "   (O_ij - E_ij)^2/E_ij  \n",
              "0              1.416312  \n",
              "1              4.272684  \n",
              "2              1.113278  \n",
              "3              1.504433  \n",
              "4            257.125518  "
            ]
          },
          "metadata": {
            "tags": []
          },
          "execution_count": 193
        }
      ]
    },
    {
      "cell_type": "markdown",
      "metadata": {
        "id": "HsAO6DFdgG11"
      },
      "source": [
        "Ta thấy:\n",
        "\n",
        "\\begin{equation}\n",
        "\\chi^2_v = 7060.264034867317 > 31.41043\n",
        "\\end{equation}\n",
        "\n",
        "</br>\n",
        "\n",
        "Vậy bác bỏ ${H_0}$ với mức ý nghĩa 0.05, chấp nhận ${H_A}$ \n",
        "\n",
        "</br>\n",
        "\n",
        "<center><font size =\"5\">Kết luận: Vùng miền và loại tai nạn có phụ thuộc nhau</font></center>\n",
        "\n",
        "</br>"
      ]
    },
    {
      "cell_type": "markdown",
      "metadata": {
        "id": "XemjfeZnhLxb"
      },
      "source": [
        "##**VIII. Nhìn lại quá trình làm đồ án**"
      ]
    },
    {
      "cell_type": "markdown",
      "metadata": {
        "id": "EV22LGAIoByM"
      },
      "source": [
        "Khó khăn:\n",
        "\n",
        "Dữ liệu input không có các cột dạng số nên gặp khó khăn khi áp dụng xác suất thống kê để tính như ma trận tương quan, VIF."
      ]
    },
    {
      "cell_type": "markdown",
      "metadata": {
        "id": "abgFGgPzYCQd"
      },
      "source": [
        "##**IX. Tham khảo**\n",
        "\n",
        "[1]. Bài tập và bài giảng thầy Trần Trung Kiên, thầy Dương Nguyễn Thái Bảo, khoa CNTT trường Đại Học Khoa Học Tự Nhiên - Đại Học Quốc Gia TP.HCM\n",
        "\n",
        "[2]. https://www3.nd.edu/~rwilliam/stats1/x51.pdf\n",
        "\n",
        "[3]. https://towardsdatascience.com/gentle-introduction-to-chi-square-test-for-independence-7182a7414a95\n"
      ]
    },
    {
      "cell_type": "code",
      "metadata": {
        "id": "CdDn4em2ZhUt"
      },
      "source": [
        ""
      ],
      "execution_count": null,
      "outputs": []
    }
  ]
}