{
 "cells": [
  {
   "cell_type": "markdown",
   "metadata": {},
   "source": [
    "# <center><font size =\"9\"> ĐỒ ÁN MÔN HỌC CUỐI KÌ</font></center>\n",
    " <br />\n",
    " \n",
    "__TÊN MÔN HỌC:__ PHÂN TÍCH DỮ LIỆU THÔNG MINH\n",
    "\n",
    "__ĐỀ TÀI:__ PHÂN TÍCH DỮ LIỆU TAI NẠN ĐƯỜNG BỘ TẠI CÁC VÙNG CỦA NƯỚC ANH\n",
    "\n",
    "__GIẢNG VIÊN:__ DƯƠNG NGUYỄN THÁI BẢO\n",
    " \n",
    "__THỨ TỰ NHÓM:__ 07\n",
    " \n",
    "__THÀNH VIÊN:__\n",
    "\n",
    "- 18120655 Phạm Minh Vương \n",
    "- 18120568 Phạm Văn Thật \n",
    "- 18120184 Nguyễn Nguyên Khang \n",
    "- 1712431 Bùi Lê Hiếu \n",
    "- 1712072 Nguyễn Văn Khoa\n",
    "\n",
    "__PHÂN CÔNG:__\n",
    "\n",
    "Công việc | Thực hiện | Mức độ hoàn thành\n",
    "------------ | ------------- | ------------\n",
    "Thu thập dữ liệu | Khang | 100%\n",
    "Khám phá dữ liệu cơ bản | Khang | 100%\n",
    "Tiền xử lý dữ liệu | Khang | 100%\n",
    "Mô hình hóa dữ liệu | Khang | 100%\n",
    "Khám phá Insight 1,2|  | 100%\n",
    "Khám phá Insight 3,4|  | 100%\n",
    "Khám phá Insight 5,6|  | 100%"
   ]
  },
  {
   "cell_type": "markdown",
   "metadata": {},
   "source": [
    "</br>\n",
    "\n",
    "## <center><font size =\"7\"> Mục lục</font></center>\n",
    " <br />\n",
    " \n",
    "- [Giới thiệu đồ án](#I.-Giới-thiệu-đồ-án)\n",
    "   - [Dữ liệu](#1.-Dữ-liệu)\n",
    "   - [Câu hỏi](#2.-Câu-hỏi)\n",
    "- [Thu thập dữ liệu](#II.-Thu-thập-dữ-liệu)\n",
    "- [Khám phá dữ liệu, tiền xử lý đơn giản và tách tập](#III.-Khám-phá-dữ-liệu,-tiền-xử-lý-đơn-giản-và-tách-tập)\n",
    "  - [Kiểm tra output hợp lệ](#1.-Kiểm-tra-output-hợp-lệ)\n",
    "  - [Ý nghĩa của mỗi dòng](#2.-Ý-nghĩa-của-mỗi-dòng)\n",
    "  - [Kiểm tra các giá trị trùng](#3.-Kiểm-tra-các-giá-trị-trùng)   \n",
    "  - [Kiểm tra các giá trị không hợp lệ](#4.-Kiểm-tra-các-giá-trị-không-hợp-lệ)\n",
    "  - [Xử lý dữ liệu bị lệch](#5.-Xử-lý-dữ-liệu-bị-lệch)\n",
    "  - [Tách các tập](#6.-Tách-các-tập) \n",
    "- [Khám phá dữ liệu (tập huấn luyện)](#IV.-Khám-phá-dữ-liệu-(tập-huấn-luyện))\n",
    "  - [Kiểm tra kiểu dữ liệu của input có phù hợp](#1.-Kiểm-tra-kiểu-dữ-liệu-của-input-có-phù-hợp)\n",
    "  - [Phân bố giá trị của cột có kiểu dữ liệu dạng số](#2.-Phân-bố-giá-trị-của-cột-có-kiểu-dữ-liệu-dạng-số)\n",
    "  - [Phân bố giá trị của cột có kiểu dữ liệu không phải dạng số](#3.-Phân-bố-giá-trị-của-cột-có-kiểu-dữ-liệu-không-phải-dạng-số)\n",
    "- [Tiền xử lý (tập huấn luyện)](#V.-Tiền-xử-lý-(tập-huấn-luyện))\n",
    "  - [Bỏ cột](#1.-Bỏ-cột)\n",
    "  - [Sửa cột](#2.-Sửa-cột)\n",
    "  - [Xử lý giá trị thiếu](#3.-Xử-lý-giá-trị-thiếu)\n",
    "  - [Chuẩn hóa](#4.-Chuẩn-hóa)\n",
    "  - [Tạo pipeline](#5.-Tạo-pipeline)\n",
    "- [Mô hình hóa dữ liệu](#VI.-Mô-hình-hóa-dữ-liệu)\n",
    "  - [Tìm mô hình tốt nhất](#1.-Tìm-mô-hình-tốt-nhất)\n",
    "  - [Đánh giá mô hình tìm được](#2.-Đánh-giá-mô-hình-tìm-được)\n",
    "- [Nhìn lại quá trình làm đồ án](#VII.-Nhìn-lại-quá-trình-làm-đồ-án)\n",
    "  - [Khó khăn](#1.-Khó-khăn)\n",
    "  - [Những thứ học được](#2.-Những-thứ-học-được)\n",
    "  - [Những điều cần bổ sung nếu có thêm thời gian](#3.-Những-điều-cần-bổ-sung-nếu-có-thêm-thời-gian)\n",
    "- [Tài liệu tham khảo](#VIII.-Tài-liệu-tham-khảo)"
   ]
  },
  {
   "cell_type": "markdown",
   "metadata": {},
   "source": [
    "</br>\n",
    "\n",
    "## I. Giới thiệu đồ án\n",
    "\n",
    "Mục đích chính của đồ án là phân tích dữ liệu tai nạn đường bộ tại các vùng của nước Anh, tìm ra các insight quan trọng, đưa ra giải pháp giúp giảm thiểu tai nạn\n",
    "\n",
    "### 1. Dữ liệu\n",
    "\n",
    "<center><img src=\"data/data.png\"\n",
    "     alt=\"Phổ điểm môn toán Hà Giang\"\n",
    "     style=\"float: center; margin-right: 10px;\" \n",
    "     width=\"600\" height=\"300\"/></center></br>\n",
    "\n",
    "Tập dữ liệu: Tai nạn đường bộ tại các vùng của nước Anh\n",
    "\n",
    "Tập dữ liệu được tải về từ [Road traffic open data](https://roadtraffic.dft.gov.uk/custom-downloads)\n",
    "\n",
    "Dữ liệu đúng và hợp pháp vì được cung cấp bởi trang web chính thức của chính phủ Anh, có đuôi gov.uk\n",
    "\n",
    "### 2. Câu hỏi\n",
    "\n",
    "Làm sao để giảm thiểu tai nạn tại nước Anh? \n",
    "\n",
    "Ta sử dụng mô hình học máy\n",
    "\n",
    "*Output - số lượng tai nạn -* được tính từ *input - thông tin của các vụ tai nạn -* theo công thức nào?\n",
    "\n",
    "Do Input ở đây là các thông tin mà con người có tể điều chỉnh được, nên ta hy vọng nhờ vào học máy, tìm ra được mối liên hệ tin cậy giữa input và output, giúp nhận ra và điều chỉnh input để giảm thiểu số lượng tại nạn."
   ]
  },
  {
   "cell_type": "code",
   "execution_count": 1,
   "metadata": {},
   "outputs": [],
   "source": [
    "# pip install pandas_ods_reader"
   ]
  },
  {
   "cell_type": "markdown",
   "metadata": {},
   "source": [
    "## Import"
   ]
  },
  {
   "cell_type": "code",
   "execution_count": 61,
   "metadata": {
    "jupyter": {
     "source_hidden": true
    }
   },
   "outputs": [],
   "source": [
    "import time\n",
    "import math\n",
    "import re\n",
    "import pandas as pd\n",
    "import numpy as np\n",
    "%matplotlib inline\n",
    "import matplotlib.pyplot as plt\n",
    "from pandas_ods_reader import read_ods\n",
    "from  matplotlib.ticker import PercentFormatter\n",
    "import seaborn as sns\n",
    "\n",
    "from sklearn.model_selection import train_test_split\n",
    "from sklearn.model_selection import GridSearchCV\n",
    "from sklearn.compose import ColumnTransformer\n",
    "from sklearn.compose import make_column_transformer\n",
    "from sklearn.preprocessing import OneHotEncoder\n",
    "from sklearn.preprocessing import StandardScaler\n",
    "from sklearn.base import BaseEstimator, TransformerMixin\n",
    "from sklearn.impute import SimpleImputer\n",
    "from sklearn.pipeline import Pipeline, make_pipeline\n",
    "\n",
    "from sklearn import set_config\n",
    "set_config(display='diagram') # Để trực quan hóa pipeline\n",
    "\n",
    "from sklearn.neural_network import MLPRegressor\n",
    "from sklearn.linear_model import LinearRegression, SGDRegressor\n",
    "from sklearn.utils import resample"
   ]
  },
  {
   "cell_type": "code",
   "execution_count": 12,
   "metadata": {
    "jupyter": {
     "source_hidden": true
    }
   },
   "outputs": [],
   "source": [
    "#Set Option\n",
    "pd.set_option('max_colwidth', 10000)\n",
    "pd.set_option('display.max_rows', 500)\n",
    "pd.set_option('display.max_columns', 500)\n",
    "pd.set_option('display.width', 1000)\n",
    "sns.set_theme()"
   ]
  },
  {
   "cell_type": "markdown",
   "metadata": {},
   "source": [
    "## II. Thu thập dữ liệu"
   ]
  },
  {
   "cell_type": "markdown",
   "metadata": {},
   "source": [
    "## III. Khám phá dữ liệu, tiền xử lý đơn giản và tách tập"
   ]
  },
  {
   "cell_type": "markdown",
   "metadata": {},
   "source": [
    "Đầu tiên ta sẽ đọc file dữ liệu vào DataFrame sau đó sẽ khám phá dữ liệu"
   ]
  },
  {
   "cell_type": "code",
   "execution_count": 4,
   "metadata": {},
   "outputs": [],
   "source": [
    "items_df = read_ods('data/a4360ffb-8320-4178-9adf-bcd92f5870b5.ods', 'Regions - By severity')"
   ]
  },
  {
   "cell_type": "code",
   "execution_count": 5,
   "metadata": {},
   "outputs": [
    {
     "data": {
      "text/html": [
       "<div>\n",
       "<style scoped>\n",
       "    .dataframe tbody tr th:only-of-type {\n",
       "        vertical-align: middle;\n",
       "    }\n",
       "\n",
       "    .dataframe tbody tr th {\n",
       "        vertical-align: top;\n",
       "    }\n",
       "\n",
       "    .dataframe thead th {\n",
       "        text-align: right;\n",
       "    }\n",
       "</style>\n",
       "<table border=\"1\" class=\"dataframe\">\n",
       "  <thead>\n",
       "    <tr style=\"text-align: right;\">\n",
       "      <th></th>\n",
       "      <th>Accident year</th>\n",
       "      <th>Accident severity</th>\n",
       "      <th>Region</th>\n",
       "      <th>Ons code</th>\n",
       "      <th>Speed limit</th>\n",
       "      <th>Road class</th>\n",
       "      <th>Road type</th>\n",
       "      <th>Junction type</th>\n",
       "      <th>Accidents</th>\n",
       "    </tr>\n",
       "  </thead>\n",
       "  <tbody>\n",
       "    <tr>\n",
       "      <th>0</th>\n",
       "      <td>2012.0</td>\n",
       "      <td>Fatal</td>\n",
       "      <td>North East</td>\n",
       "      <td>E12000001</td>\n",
       "      <td>21-30 mph</td>\n",
       "      <td>A</td>\n",
       "      <td>Roundabout</td>\n",
       "      <td>Roundabout</td>\n",
       "      <td>1.0</td>\n",
       "    </tr>\n",
       "    <tr>\n",
       "      <th>1</th>\n",
       "      <td>2012.0</td>\n",
       "      <td>Fatal</td>\n",
       "      <td>North East</td>\n",
       "      <td>E12000001</td>\n",
       "      <td>21-30 mph</td>\n",
       "      <td>A</td>\n",
       "      <td>Single carriageway</td>\n",
       "      <td>Not at junction or within 20 metres</td>\n",
       "      <td>4.0</td>\n",
       "    </tr>\n",
       "    <tr>\n",
       "      <th>2</th>\n",
       "      <td>2012.0</td>\n",
       "      <td>Fatal</td>\n",
       "      <td>North East</td>\n",
       "      <td>E12000001</td>\n",
       "      <td>21-30 mph</td>\n",
       "      <td>A</td>\n",
       "      <td>Single carriageway</td>\n",
       "      <td>Roundabout</td>\n",
       "      <td>1.0</td>\n",
       "    </tr>\n",
       "  </tbody>\n",
       "</table>\n",
       "</div>"
      ],
      "text/plain": [
       "   Accident year Accident severity      Region   Ons code Speed limit Road class           Road type                        Junction type  Accidents\n",
       "0         2012.0             Fatal  North East  E12000001   21-30 mph          A          Roundabout                           Roundabout        1.0\n",
       "1         2012.0             Fatal  North East  E12000001   21-30 mph          A  Single carriageway  Not at junction or within 20 metres        4.0\n",
       "2         2012.0             Fatal  North East  E12000001   21-30 mph          A  Single carriageway                           Roundabout        1.0"
      ]
     },
     "execution_count": 5,
     "metadata": {},
     "output_type": "execute_result"
    }
   ],
   "source": [
    "items_df.head(3)"
   ]
  },
  {
   "cell_type": "code",
   "execution_count": 6,
   "metadata": {},
   "outputs": [
    {
     "data": {
      "text/plain": [
       "(47217, 9)"
      ]
     },
     "execution_count": 6,
     "metadata": {},
     "output_type": "execute_result"
    }
   ],
   "source": [
    "items_df.shape"
   ]
  },
  {
   "cell_type": "markdown",
   "metadata": {},
   "source": [
    "### 1. Ý nghĩa của mỗi dòng\n",
    "Quan sát sơ bộ dữ liệu và qua quá trình thu thập dữ liệu, ta thấy mỗi dòng chứa thông tin của một hoặc nhiều vụ tai nạn, và không có vấn đề các dòng có ý nghĩa khác nhau"
   ]
  },
  {
   "cell_type": "markdown",
   "metadata": {},
   "source": [
    "### 2. Kiểm tra các giá trị trùng\n",
    "Ta xem thử có bao nhiêu mẫu bị trùng giá trị"
   ]
  },
  {
   "cell_type": "code",
   "execution_count": 35,
   "metadata": {},
   "outputs": [
    {
     "data": {
      "text/plain": [
       "0"
      ]
     },
     "execution_count": 35,
     "metadata": {},
     "output_type": "execute_result"
    }
   ],
   "source": [
    "num_duplicated_rows = items_df.duplicated().sum()\n",
    "num_duplicated_rows"
   ]
  },
  {
   "cell_type": "markdown",
   "metadata": {},
   "source": [
    "Xóa các mẫu có giá trị trùng bằng phương thức drop_duplicates của pandas, mặc định giữ lại dòng có giá trị lặp đầu tiên"
   ]
  },
  {
   "cell_type": "code",
   "execution_count": 36,
   "metadata": {},
   "outputs": [],
   "source": [
    "items_df = items_df.drop_duplicates(ignore_index = True)"
   ]
  },
  {
   "cell_type": "markdown",
   "metadata": {},
   "source": [
    "### 3. Kiểm tra các giá trị không hợp lệ"
   ]
  },
  {
   "cell_type": "markdown",
   "metadata": {},
   "source": [
    "Ta kiểm tra các trường hợp:\n",
    "\n",
    "1. Accident year < 0 hoặc > 2019\n",
    "\n",
    "2. Accidents < 1\n",
    "\n",
    "3. Accident year và Accidents có phần thập phân khác 0."
   ]
  },
  {
   "cell_type": "markdown",
   "metadata": {},
   "source": [
    "Xem xét trường hợp 1:"
   ]
  },
  {
   "cell_type": "code",
   "execution_count": 52,
   "metadata": {},
   "outputs": [
    {
     "data": {
      "text/plain": [
       "0.0"
      ]
     },
     "execution_count": 52,
     "metadata": {},
     "output_type": "execute_result"
    }
   ],
   "source": [
    "invalid_Accident_year = (items_df['Accident year'] < 0) | (items_df['Accident year'] > 2019)\n",
    "invalid_Accident_year_vals = invalid_Accident_year.sum()\n",
    "invalid_Accident_year_vals/len(items_df)"
   ]
  },
  {
   "cell_type": "markdown",
   "metadata": {},
   "source": [
    "Xem xét trường hợp 2:"
   ]
  },
  {
   "cell_type": "code",
   "execution_count": 53,
   "metadata": {},
   "outputs": [
    {
     "data": {
      "text/plain": [
       "0.0"
      ]
     },
     "execution_count": 53,
     "metadata": {},
     "output_type": "execute_result"
    }
   ],
   "source": [
    "invalid_Accidents = (items_df['Accidents'] < 1)\n",
    "invalid_Accidents_vals = invalid_Accidents.sum()\n",
    "invalid_Accidents_vals/len(items_df)"
   ]
  },
  {
   "cell_type": "markdown",
   "metadata": {},
   "source": [
    "Xem xét trường hợp 3:"
   ]
  },
  {
   "cell_type": "code",
   "execution_count": 87,
   "metadata": {},
   "outputs": [
    {
     "data": {
      "text/plain": [
       "0.0"
      ]
     },
     "execution_count": 87,
     "metadata": {},
     "output_type": "execute_result"
    }
   ],
   "source": [
    "invalid_Numeric_Type = (((items_df['Accidents'] - items_df['Accidents'].apply(np.ceil)) != 0) | ((items_df['Accident year'] - items_df['Accident year'].apply(np.ceil)) != 0) )\n",
    "invalid_Numeric_Type_vals = invalid_Numeric_Type.sum()\n",
    "invalid_Numeric_Type_vals/len(items_df)"
   ]
  },
  {
   "cell_type": "markdown",
   "metadata": {},
   "source": [
    "Xử lý 3 trường hợp trên: \n",
    "\n",
    "Lưu ý rằng dù không có lỗi trong các trường hợp này nhưng ta không biết dữ liệu mới thế nào, nên ta vẫn bỏ tất cả các dòng bị lỗi (nếu có):"
   ]
  },
  {
   "cell_type": "code",
   "execution_count": 88,
   "metadata": {},
   "outputs": [],
   "source": [
    "items_df = items_df[~invalid_Accident_year]\n",
    "items_df = items_df[~invalid_Accidents]\n",
    "items_df = items_df[~invalid_Numeric_Type]"
   ]
  },
  {
   "cell_type": "markdown",
   "metadata": {},
   "source": [
    "### 4. Tách các tập\n",
    "Vậy là dữ liệu đã sẵn sàng để tách và khám phá"
   ]
  },
  {
   "cell_type": "code",
   "execution_count": 38,
   "metadata": {},
   "outputs": [],
   "source": [
    "# Tách X và y\n",
    "y_sr = items_df[\"Accidents\"]\n",
    "X_df = items_df.drop(\"Accidents\", axis=1)"
   ]
  },
  {
   "cell_type": "code",
   "execution_count": 43,
   "metadata": {},
   "outputs": [],
   "source": [
    "# Tách train và test\n",
    "rest_X_df, test_X_df, rest_y_sr, test_y_sr = train_test_split(X_df, y_sr, test_size=0.2, random_state=0)"
   ]
  },
  {
   "cell_type": "code",
   "execution_count": 44,
   "metadata": {},
   "outputs": [],
   "source": [
    "# Tách train và validation\n",
    "train_X_df, val_X_df, train_y_sr, val_y_sr = train_test_split(rest_X_df, rest_y_sr, test_size=0.2, random_state=0)"
   ]
  },
  {
   "cell_type": "code",
   "execution_count": 45,
   "metadata": {},
   "outputs": [
    {
     "data": {
      "text/plain": [
       "(30218, 8)"
      ]
     },
     "execution_count": 45,
     "metadata": {},
     "output_type": "execute_result"
    }
   ],
   "source": [
    "train_X_df.shape"
   ]
  },
  {
   "cell_type": "code",
   "execution_count": 46,
   "metadata": {},
   "outputs": [
    {
     "data": {
      "text/plain": [
       "(30218,)"
      ]
     },
     "execution_count": 46,
     "metadata": {},
     "output_type": "execute_result"
    }
   ],
   "source": [
    "train_y_sr.shape"
   ]
  },
  {
   "cell_type": "code",
   "execution_count": 47,
   "metadata": {},
   "outputs": [
    {
     "data": {
      "text/plain": [
       "(7555, 8)"
      ]
     },
     "execution_count": 47,
     "metadata": {},
     "output_type": "execute_result"
    }
   ],
   "source": [
    "val_X_df.shape"
   ]
  },
  {
   "cell_type": "code",
   "execution_count": 48,
   "metadata": {},
   "outputs": [
    {
     "data": {
      "text/plain": [
       "(7555,)"
      ]
     },
     "execution_count": 48,
     "metadata": {},
     "output_type": "execute_result"
    }
   ],
   "source": [
    "val_y_sr.shape"
   ]
  },
  {
   "cell_type": "code",
   "execution_count": 49,
   "metadata": {},
   "outputs": [
    {
     "data": {
      "text/plain": [
       "(9444, 8)"
      ]
     },
     "execution_count": 49,
     "metadata": {},
     "output_type": "execute_result"
    }
   ],
   "source": [
    "test_X_df.shape"
   ]
  },
  {
   "cell_type": "code",
   "execution_count": 50,
   "metadata": {},
   "outputs": [
    {
     "data": {
      "text/plain": [
       "(9444,)"
      ]
     },
     "execution_count": 50,
     "metadata": {},
     "output_type": "execute_result"
    }
   ],
   "source": [
    "test_y_sr.shape"
   ]
  },
  {
   "cell_type": "markdown",
   "metadata": {},
   "source": [
    "==="
   ]
  },
  {
   "cell_type": "markdown",
   "metadata": {},
   "source": [
    "### 1. Kiểm tra output hợp lệ ( sau khi chia train/ttest)\n",
    "\n",
    "Ta kiểm tra xem dữ liệu thu được có đủ điều kiện để mô hình hóa hay không? Vì đây là bài toán hồi qui nên cột output bắt buộc phải có dạng số; nếu hiện chưa có dạng số (ví dụ, số nhưng được lưu dưới dạng chuỗi) thì ta cần chuyển sang dạng số rồi mới tách các tập"
   ]
  },
  {
   "cell_type": "code",
   "execution_count": 7,
   "metadata": {},
   "outputs": [
    {
     "data": {
      "text/plain": [
       "dtype('float64')"
      ]
     },
     "execution_count": 7,
     "metadata": {},
     "output_type": "execute_result"
    }
   ],
   "source": [
    "# Cột output hiện có kiểu dữ liệu gì?\n",
    "items_df['Accidents'].dtype"
   ]
  },
  {
   "cell_type": "code",
   "execution_count": 8,
   "metadata": {},
   "outputs": [
    {
     "data": {
      "text/plain": [
       "0"
      ]
     },
     "execution_count": 8,
     "metadata": {},
     "output_type": "execute_result"
    }
   ],
   "source": [
    "# Cột output có giá trị thiếu không?\n",
    "items_df['Accidents'].isna().sum()"
   ]
  },
  {
   "cell_type": "code",
   "execution_count": 9,
   "metadata": {},
   "outputs": [
    {
     "data": {
      "text/plain": [
       "count    47217.000000\n",
       "mean        22.815998\n",
       "std        106.902855\n",
       "min          1.000000\n",
       "25%          1.000000\n",
       "50%          3.000000\n",
       "75%         10.000000\n",
       "max       6445.000000\n",
       "Name: Accidents, dtype: float64"
      ]
     },
     "execution_count": 9,
     "metadata": {},
     "output_type": "execute_result"
    }
   ],
   "source": [
    "# Xem phân bố các giá trị của output\n",
    "items_df['Accidents'].describe()"
   ]
  },
  {
   "cell_type": "code",
   "execution_count": 18,
   "metadata": {},
   "outputs": [
    {
     "data": {
      "text/plain": [
       "1.0       16211\n",
       "2.0        6265\n",
       "3.0        3574\n",
       "4.0        2550\n",
       "5.0        1934\n",
       "          ...  \n",
       "797.0         1\n",
       "1105.0        1\n",
       "535.0         1\n",
       "960.0         1\n",
       "519.0         1\n",
       "Name: Accidents, Length: 703, dtype: int64"
      ]
     },
     "execution_count": 18,
     "metadata": {},
     "output_type": "execute_result"
    }
   ],
   "source": [
    "items_df['Accidents'].value_counts()"
   ]
  },
  {
   "cell_type": "code",
   "execution_count": 16,
   "metadata": {},
   "outputs": [
    {
     "data": {
      "text/plain": [
       "<AxesSubplot:ylabel='Frequency'>"
      ]
     },
     "execution_count": 16,
     "metadata": {},
     "output_type": "execute_result"
    },
    {
     "data": {
      "image/png": "[encoded data removed]",
      "text/plain": [
       "<Figure size 432x288 with 1 Axes>"
      ]
     },
     "metadata": {},
     "output_type": "display_data"
    }
   ],
   "source": [
    "items_df['Accidents'].plot.hist(bins=range(0, 300,10), edgecolor='black')"
   ]
  },
  {
   "cell_type": "code",
   "execution_count": 32,
   "metadata": {},
   "outputs": [
    {
     "data": {
      "text/html": [
       "<div>\n",
       "<style scoped>\n",
       "    .dataframe tbody tr th:only-of-type {\n",
       "        vertical-align: middle;\n",
       "    }\n",
       "\n",
       "    .dataframe tbody tr th {\n",
       "        vertical-align: top;\n",
       "    }\n",
       "\n",
       "    .dataframe thead th {\n",
       "        text-align: right;\n",
       "    }\n",
       "</style>\n",
       "<table border=\"1\" class=\"dataframe\">\n",
       "  <thead>\n",
       "    <tr style=\"text-align: right;\">\n",
       "      <th></th>\n",
       "      <th>Accidents</th>\n",
       "      <th>Frequency</th>\n",
       "    </tr>\n",
       "  </thead>\n",
       "  <tbody>\n",
       "    <tr>\n",
       "      <th>0</th>\n",
       "      <td>1.0</td>\n",
       "      <td>16211</td>\n",
       "    </tr>\n",
       "    <tr>\n",
       "      <th>1</th>\n",
       "      <td>2.0</td>\n",
       "      <td>6265</td>\n",
       "    </tr>\n",
       "    <tr>\n",
       "      <th>2</th>\n",
       "      <td>3.0</td>\n",
       "      <td>3574</td>\n",
       "    </tr>\n",
       "    <tr>\n",
       "      <th>3</th>\n",
       "      <td>4.0</td>\n",
       "      <td>2550</td>\n",
       "    </tr>\n",
       "    <tr>\n",
       "      <th>4</th>\n",
       "      <td>5.0</td>\n",
       "      <td>1934</td>\n",
       "    </tr>\n",
       "    <tr>\n",
       "      <th>...</th>\n",
       "      <td>...</td>\n",
       "      <td>...</td>\n",
       "    </tr>\n",
       "    <tr>\n",
       "      <th>698</th>\n",
       "      <td>797.0</td>\n",
       "      <td>1</td>\n",
       "    </tr>\n",
       "    <tr>\n",
       "      <th>699</th>\n",
       "      <td>1105.0</td>\n",
       "      <td>1</td>\n",
       "    </tr>\n",
       "    <tr>\n",
       "      <th>700</th>\n",
       "      <td>535.0</td>\n",
       "      <td>1</td>\n",
       "    </tr>\n",
       "    <tr>\n",
       "      <th>701</th>\n",
       "      <td>960.0</td>\n",
       "      <td>1</td>\n",
       "    </tr>\n",
       "    <tr>\n",
       "      <th>702</th>\n",
       "      <td>519.0</td>\n",
       "      <td>1</td>\n",
       "    </tr>\n",
       "  </tbody>\n",
       "</table>\n",
       "<p>703 rows × 2 columns</p>\n",
       "</div>"
      ],
      "text/plain": [
       "     Accidents  Frequency\n",
       "0          1.0      16211\n",
       "1          2.0       6265\n",
       "2          3.0       3574\n",
       "3          4.0       2550\n",
       "4          5.0       1934\n",
       "..         ...        ...\n",
       "698      797.0          1\n",
       "699     1105.0          1\n",
       "700      535.0          1\n",
       "701      960.0          1\n",
       "702      519.0          1\n",
       "\n",
       "[703 rows x 2 columns]"
      ]
     },
     "execution_count": 32,
     "metadata": {},
     "output_type": "execute_result"
    }
   ],
   "source": [
    "Accidents_df = items_df['Accidents'].value_counts().rename_axis('Accidents').reset_index(name='Frequency')\n",
    "Accidents_df\n"
   ]
  },
  {
   "cell_type": "code",
   "execution_count": 34,
   "metadata": {},
   "outputs": [
    {
     "data": {
      "text/plain": [
       "<AxesSubplot:xlabel='Accidents', ylabel='Frequency'>"
      ]
     },
     "execution_count": 34,
     "metadata": {},
     "output_type": "execute_result"
    },
    {
     "data": {
      "image/png": "[encoded data removed]",
      "text/plain": [
       "<Figure size 432x288 with 1 Axes>"
      ]
     },
     "metadata": {},
     "output_type": "display_data"
    }
   ],
   "source": [
    "sns.lineplot(data = Accidents_df, x = 'Accidents', y = 'Frequency')"
   ]
  }
 ],
 "metadata": {
  "kernelspec": {
   "display_name": "Python 3",
   "language": "python",
   "name": "python3"
  },
  "language_info": {
   "codemirror_mode": {
    "name": "ipython",
    "version": 3
   },
   "file_extension": ".py",
   "mimetype": "text/x-python",
   "name": "python",
   "nbconvert_exporter": "python",
   "pygments_lexer": "ipython3",
   "version": "3.8.5"
  }
 },
 "nbformat": 4,
 "nbformat_minor": 4
}
