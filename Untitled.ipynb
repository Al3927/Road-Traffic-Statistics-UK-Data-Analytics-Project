{
 "cells": [
  {
   "cell_type": "markdown",
   "metadata": {},
   "source": [
    "https://roadtraffic.dft.gov.uk/downloads\n",
    "\n",
    "https://roadtraffic.dft.gov.uk/custom-downloads"
   ]
  },
  {
   "cell_type": "code",
   "execution_count": 6,
   "metadata": {},
   "outputs": [
    {
     "name": "stdout",
     "output_type": "stream",
     "text": [
      "Collecting pandas_ods_readerNote: you may need to restart the kernel to use updated packages.\n",
      "  Downloading pandas_ods_reader-0.0.7-py3-none-any.whl (7.1 kB)\n",
      "Requirement already satisfied: pandas in c:\\programdata\\anaconda3\\lib\\site-packages (from pandas_ods_reader) (1.1.3)\n",
      "Collecting ezodf\n",
      "  Downloading ezodf-0.3.2.tar.gz (125 kB)\n",
      "Requirement already satisfied: lxml in c:\\programdata\\anaconda3\\lib\\site-packages (from pandas_ods_reader) (4.6.1)\n",
      "Requirement already satisfied: pytz>=2017.2 in c:\\programdata\\anaconda3\\lib\\site-packages (from pandas->pandas_ods_reader) (2020.1)\n",
      "Requirement already satisfied: python-dateutil>=2.7.3 in c:\\programdata\\anaconda3\\lib\\site-packages (from pandas->pandas_ods_reader) (2.8.1)\n",
      "Requirement already satisfied: numpy>=1.15.4 in c:\\programdata\\anaconda3\\lib\\site-packages (from pandas->pandas_ods_reader) (1.19.2)\n",
      "Requirement already satisfied: six>=1.5 in c:\\programdata\\anaconda3\\lib\\site-packages (from python-dateutil>=2.7.3->pandas->pandas_ods_reader) (1.15.0)\n",
      "Building wheels for collected packages: ezodf\n",
      "  Building wheel for ezodf (setup.py): started\n",
      "  Building wheel for ezodf (setup.py): finished with status 'done'\n",
      "  Created wheel for ezodf: filename=ezodf-0.3.2-py2.py3-none-any.whl size=49006 sha256=a0987f9921d1b64970f12d049d4f52adca80a82b67349f9f664ef21c5c135165\n",
      "  Stored in directory: c:\\users\\administrator\\appdata\\local\\pip\\cache\\wheels\\50\\d3\\91\\67b352fa0847576d7f3716a1d9a8ded88abb49e6c972cec44a\n",
      "Successfully built ezodf\n",
      "Installing collected packages: ezodf, pandas-ods-reader\n",
      "Successfully installed ezodf-0.3.2 pandas-ods-reader-0.0.7\n",
      "\n"
     ]
    }
   ],
   "source": [
    "# pip install pandas_ods_reader"
   ]
  },
  {
   "cell_type": "code",
   "execution_count": 1,
   "metadata": {},
   "outputs": [],
   "source": [
    "import time\n",
    "import re\n",
    "import pandas as pd\n",
    "import numpy as np\n",
    "%matplotlib inline\n",
    "import matplotlib.pyplot as plt\n",
    "from pandas_ods_reader import read_ods\n",
    "\n",
    "from sklearn.model_selection import train_test_split\n",
    "from sklearn.model_selection import GridSearchCV\n",
    "from sklearn.compose import ColumnTransformer\n",
    "from sklearn.compose import make_column_transformer\n",
    "from sklearn.preprocessing import OneHotEncoder\n",
    "from sklearn.preprocessing import StandardScaler\n",
    "from sklearn.base import BaseEstimator, TransformerMixin\n",
    "from sklearn.impute import SimpleImputer\n",
    "from sklearn.pipeline import Pipeline, make_pipeline\n",
    "\n",
    "from sklearn import set_config\n",
    "set_config(display='diagram') # Để trực quan hóa pipeline\n",
    "\n",
    "from sklearn.neural_network import MLPRegressor\n",
    "from sklearn.linear_model import LinearRegression, SGDRegressor\n",
    "from sklearn.utils import resample"
   ]
  },
  {
   "cell_type": "code",
   "execution_count": 2,
   "metadata": {},
   "outputs": [],
   "source": [
    "#Set Option\n",
    "pd.set_option('max_colwidth', 10000)\n",
    "pd.set_option('display.max_rows', 500)\n",
    "pd.set_option('display.max_columns', 500)\n",
    "pd.set_option('display.width', 1000)"
   ]
  },
  {
   "cell_type": "code",
   "execution_count": 6,
   "metadata": {},
   "outputs": [],
   "source": [
    "items_df = read_ods('data/4b789d20-b043-422d-a304-bbf83051443d.ods', 'Regions - By severity')"
   ]
  },
  {
   "cell_type": "code",
   "execution_count": 7,
   "metadata": {},
   "outputs": [
    {
     "data": {
      "text/html": [
       "<div>\n",
       "<style scoped>\n",
       "    .dataframe tbody tr th:only-of-type {\n",
       "        vertical-align: middle;\n",
       "    }\n",
       "\n",
       "    .dataframe tbody tr th {\n",
       "        vertical-align: top;\n",
       "    }\n",
       "\n",
       "    .dataframe thead th {\n",
       "        text-align: right;\n",
       "    }\n",
       "</style>\n",
       "<table border=\"1\" class=\"dataframe\">\n",
       "  <thead>\n",
       "    <tr style=\"text-align: right;\">\n",
       "      <th></th>\n",
       "      <th>Accident year</th>\n",
       "      <th>Casualty severity</th>\n",
       "      <th>Region</th>\n",
       "      <th>Ons code</th>\n",
       "      <th>Road user</th>\n",
       "      <th>Detailed road user</th>\n",
       "      <th>Light condition</th>\n",
       "      <th>Weather condition</th>\n",
       "      <th>Casualties</th>\n",
       "    </tr>\n",
       "  </thead>\n",
       "  <tbody>\n",
       "    <tr>\n",
       "      <th>0</th>\n",
       "      <td>2015.0</td>\n",
       "      <td>Killed</td>\n",
       "      <td>North East</td>\n",
       "      <td>E12000001</td>\n",
       "      <td>Pedestrian</td>\n",
       "      <td>Pedestrian</td>\n",
       "      <td>Daylight</td>\n",
       "      <td>Fine no high winds</td>\n",
       "      <td>6.0</td>\n",
       "    </tr>\n",
       "    <tr>\n",
       "      <th>1</th>\n",
       "      <td>2015.0</td>\n",
       "      <td>Killed</td>\n",
       "      <td>North East</td>\n",
       "      <td>E12000001</td>\n",
       "      <td>Pedestrian</td>\n",
       "      <td>Pedestrian</td>\n",
       "      <td>Darkness - lights lit</td>\n",
       "      <td>Fine no high winds</td>\n",
       "      <td>2.0</td>\n",
       "    </tr>\n",
       "    <tr>\n",
       "      <th>2</th>\n",
       "      <td>2015.0</td>\n",
       "      <td>Killed</td>\n",
       "      <td>North East</td>\n",
       "      <td>E12000001</td>\n",
       "      <td>Pedestrian</td>\n",
       "      <td>Pedestrian</td>\n",
       "      <td>Darkness - no lighting</td>\n",
       "      <td>Fine no high winds</td>\n",
       "      <td>2.0</td>\n",
       "    </tr>\n",
       "  </tbody>\n",
       "</table>\n",
       "</div>"
      ],
      "text/plain": [
       "   Accident year Casualty severity      Region   Ons code   Road user Detailed road user         Light condition   Weather condition  Casualties\n",
       "0         2015.0            Killed  North East  E12000001  Pedestrian         Pedestrian                Daylight  Fine no high winds         6.0\n",
       "1         2015.0            Killed  North East  E12000001  Pedestrian         Pedestrian   Darkness - lights lit  Fine no high winds         2.0\n",
       "2         2015.0            Killed  North East  E12000001  Pedestrian         Pedestrian  Darkness - no lighting  Fine no high winds         2.0"
      ]
     },
     "execution_count": 7,
     "metadata": {},
     "output_type": "execute_result"
    }
   ],
   "source": [
    "items_df.head(3)"
   ]
  },
  {
   "cell_type": "code",
   "execution_count": 18,
   "metadata": {},
   "outputs": [
    {
     "data": {
      "text/plain": [
       "(13179, 8)"
      ]
     },
     "execution_count": 18,
     "metadata": {},
     "output_type": "execute_result"
    }
   ],
   "source": [
    "items_df.shape"
   ]
  }
 ],
 "metadata": {
  "kernelspec": {
   "display_name": "Python 3",
   "language": "python",
   "name": "python3"
  },
  "language_info": {
   "codemirror_mode": {
    "name": "ipython",
    "version": 3
   },
   "file_extension": ".py",
   "mimetype": "text/x-python",
   "name": "python",
   "nbconvert_exporter": "python",
   "pygments_lexer": "ipython3",
   "version": "3.8.5"
  }
 },
 "nbformat": 4,
 "nbformat_minor": 4
}
